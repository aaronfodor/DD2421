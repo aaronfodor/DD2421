{
  "nbformat": 4,
  "nbformat_minor": 0,
  "metadata": {
    "colab": {
      "name": "lab2.ipynb",
      "provenance": [],
      "collapsed_sections": []
    },
    "kernelspec": {
      "name": "python3",
      "display_name": "Python 3"
    },
    "language_info": {
      "name": "python"
    }
  },
  "cells": [
    {
      "cell_type": "code",
      "metadata": {
        "id": "iFjvVBvaP5bo"
      },
      "source": [
        "import numpy as np\n",
        "import random, math\n",
        "from scipy.optimize import minimize\n",
        "import matplotlib.pyplot as plt"
      ],
      "execution_count": null,
      "outputs": []
    },
    {
      "cell_type": "code",
      "metadata": {
        "id": "rUldo5TdP8BM"
      },
      "source": [
        "np.random.seed(42)"
      ],
      "execution_count": null,
      "outputs": []
    },
    {
      "cell_type": "markdown",
      "metadata": {
        "id": "voNBjIqeSryw"
      },
      "source": [
        "### 5. Generating Test Data"
      ]
    },
    {
      "cell_type": "code",
      "metadata": {
        "id": "ZrzjuafZP9Sq"
      },
      "source": [
        "def generate_dataset(classA, classB):\n",
        "\n",
        "    inputs = np.concatenate((classA, classB))\n",
        "    targets = np.concatenate(\n",
        "        (np.ones(classA.shape[0]),\n",
        "        -np.ones(classB.shape[0])))\n",
        "\n",
        "    N = inputs.shape[0] # num of rows\n",
        "\n",
        "    permute = list(range(N))\n",
        "    random.shuffle(permute)\n",
        "    inputs = inputs[permute, :]\n",
        "    targets = targets[permute]\n",
        "\n",
        "    return inputs, targets, N"
      ],
      "execution_count": null,
      "outputs": []
    },
    {
      "cell_type": "code",
      "metadata": {
        "id": "sBCfRkELUbYD"
      },
      "source": [
        "classA = np.concatenate(\n",
        "        (np.random.randn(10, 2) * 0.2 + [1.5, 0.5],\n",
        "        np.random.randn(10, 2) * 0.2 + [-1.5, 0.5]))\n",
        "classB = np.random.randn(20, 2) * 0.2 + [0.0, -0.5]\n",
        "\n",
        "inputs, targets, N = generate_dataset(classA, classB)"
      ],
      "execution_count": null,
      "outputs": []
    },
    {
      "cell_type": "markdown",
      "metadata": {
        "id": "Mil2DhBCSv6O"
      },
      "source": [
        "### 6. Plotting the Generated Test Data\n"
      ]
    },
    {
      "cell_type": "code",
      "metadata": {
        "id": "Sz-KHMijQojr"
      },
      "source": [
        "def plotData(classA, classB, grid_args):\n",
        "\n",
        "    axes = plt.gca()\n",
        "    axes.set_autoscale_on(False)\n",
        "    axes.set_xlim([grid_args['grid_x_min'], grid_args['grid_x_max']])\n",
        "    axes.set_ylim([grid_args['grid_y_min'], grid_args['grid_y_max']])\n",
        "\n",
        "    plt.plot([p[0] for p in classA],\n",
        "             [p[1] for p in classA],\n",
        "             'b.')\n",
        "\n",
        "    plt.plot([p[0] for p in classB],\n",
        "             [p[1] for p in classB],\n",
        "             'r.')\n",
        "\n",
        "    return plt"
      ],
      "execution_count": null,
      "outputs": []
    },
    {
      "cell_type": "code",
      "metadata": {
        "colab": {
          "base_uri": "https://localhost:8080/",
          "height": 286
        },
        "id": "uLZTiZLRRFNb",
        "outputId": "443d6e16-5506-46f2-d558-2ce6a0580b66"
      },
      "source": [
        "grid_args = {'grid_x_min':-2, 'grid_x_max':2, 'grid_y_min':-2, 'grid_y_max':2}\n",
        "plotData(classA, classB, grid_args)"
      ],
      "execution_count": null,
      "outputs": [
        {
          "output_type": "execute_result",
          "data": {
            "text/plain": [
              "<module 'matplotlib.pyplot' from '/usr/local/lib/python3.7/dist-packages/matplotlib/pyplot.py'>"
            ]
          },
          "metadata": {},
          "execution_count": 43
        },
        {
          "output_type": "display_data",
          "data": {
            "image/png": "[encoded data removed]",
            "text/plain": [
              "<Figure size 432x288 with 1 Axes>"
            ]
          },
          "metadata": {
            "needs_background": "light"
          }
        }
      ]
    },
    {
      "cell_type": "markdown",
      "metadata": {
        "id": "4EWKWEBIS1OQ"
      },
      "source": [
        "### 4. Implementation\n",
        "This parameters are just for debbuging/experimenting with the functions"
      ]
    },
    {
      "cell_type": "code",
      "metadata": {
        "id": "Nu-7RrkYyxHp"
      },
      "source": [
        "kernel_args = {'type': 'linear'}\n",
        "\n",
        "threshold = math.pow(10, -5)\n",
        "C = None"
      ],
      "execution_count": null,
      "outputs": []
    },
    {
      "cell_type": "markdown",
      "metadata": {
        "id": "4-0i1UAEzFBo"
      },
      "source": [
        "#### 4.1. Things to implement\n",
        "- Kernel Functions"
      ]
    },
    {
      "cell_type": "code",
      "metadata": {
        "id": "QsACQUikRSfK"
      },
      "source": [
        "def kernel(p1, p2, kernel_args):\n",
        "    if kernel_args['type'] == 'linear' or kernel_args['type'] == 'l':\n",
        "        return np.dot(np.transpose(p1), p2)\n",
        "    elif kernel_args['type'] == 'polynomial' or kernel_args['type'] == 'p':\n",
        "        power = kernel_args['power']\n",
        "        return math.pow((np.dot(np.transpose(p1), p2) + 1), power)\n",
        "    elif kernel_args['type'] == 'rbf':\n",
        "        sigma = kernel_args['sigma']\n",
        "        numerator = np.linalg.norm(p1-p2, 2)**2\n",
        "        denominator = 2*(sigma**2)\n",
        "        return math.exp(-(numerator/denominator))\n",
        "    else:\n",
        "        print(\"Wrong type of Kernel function\")"
      ],
      "execution_count": null,
      "outputs": []
    },
    {
      "cell_type": "markdown",
      "metadata": {
        "id": "kXlTfzGWWM35"
      },
      "source": [
        "- Implement the function objective"
      ]
    },
    {
      "cell_type": "code",
      "metadata": {
        "id": "7FxIwbt9WRqH"
      },
      "source": [
        "def p_value(ti, tj, kernel):\n",
        "    return ti*tj*kernel\n",
        "\n",
        "def calculate_p_matrix(x, t, kernel_args):\n",
        "    matrix = np.zeros((N, N))\n",
        "    for i in range(N):\n",
        "        for j in range(N):\n",
        "            kernel_value = kernel(x[i], x[j], kernel_args)\n",
        "            matrix[i][j] = t[i]*t[j]*kernel_value\n",
        "    return matrix"
      ],
      "execution_count": null,
      "outputs": []
    },
    {
      "cell_type": "code",
      "metadata": {
        "id": "WU4eISWJykW_"
      },
      "source": [
        "p_matrix = calculate_p_matrix(inputs, targets, kernel_args)"
      ],
      "execution_count": null,
      "outputs": []
    },
    {
      "cell_type": "code",
      "metadata": {
        "id": "XpowWHR_yoEO"
      },
      "source": [
        "def objective(alphas):\n",
        "    sum_of_alpha = np.sum(alphas)\n",
        "    alphas_matrix = np.outer(np.transpose(alphas), alphas)\n",
        "    m_matrix = np.multiply(alphas_matrix, p_matrix)\n",
        "    return (np.sum(m_matrix)*(1/2)) - sum_of_alpha"
      ],
      "execution_count": null,
      "outputs": []
    },
    {
      "cell_type": "markdown",
      "metadata": {
        "id": "wHteObj6IkOE"
      },
      "source": [
        "- Implement function zerofun"
      ]
    },
    {
      "cell_type": "code",
      "metadata": {
        "id": "pae4reL9F3z8"
      },
      "source": [
        "def zerofun(alphas):\n",
        "    return np.dot(alphas, targets)"
      ],
      "execution_count": null,
      "outputs": []
    },
    {
      "cell_type": "markdown",
      "metadata": {
        "id": "DnPq7vF-I2Yx"
      },
      "source": [
        "- Call `minimize`"
      ]
    },
    {
      "cell_type": "code",
      "metadata": {
        "id": "s6XDIhmEI8ja",
        "colab": {
          "base_uri": "https://localhost:8080/"
        },
        "outputId": "d342302b-9de4-47fb-af39-cb369325f352"
      },
      "source": [
        "bounds = [(0, C) for b in range(N)]\n",
        "XC = [{'type':'eq', 'fun':zerofun}]\n",
        "\n",
        "ret = minimize(objective, np.zeros(N), bounds=bounds, constraints=XC)\n",
        "alpha = ret['x']\n",
        "\n",
        "print(f\"New values for alpha: \\n{alpha}\")"
      ],
      "execution_count": null,
      "outputs": [
        {
          "output_type": "stream",
          "name": "stdout",
          "text": [
            "New values for alpha: \n",
            "[3.65121373e+03 9.11166480e-02 2.83272110e+00 3.57669963e-02\n",
            " 6.54329013e+00 6.38608415e-01 1.03743811e-01 7.06847500e-03\n",
            " 5.05325185e-03 1.08027921e-02 3.25447467e+00 7.08510589e-02\n",
            " 3.93568542e-01 4.13091741e+00 1.76617706e+04 8.47141597e-01\n",
            " 3.02530181e-02 6.84395412e-02 2.73887200e-01 3.97366990e+03\n",
            " 1.12867881e-01 2.18939601e+01 9.96643484e-01 8.64889254e+03\n",
            " 7.84595598e-02 2.95610956e-02 3.78528988e+00 7.44004174e-01\n",
            " 5.63345022e+00 1.19657483e-02 1.06737088e+00 3.05756208e-03\n",
            " 1.56273332e-01 6.27400761e-01 2.05375975e+00 5.26652543e-01\n",
            " 5.38798122e-02 2.38764897e+00 5.36090456e+00 1.02287759e+03\n",
            " 5.84117035e-01 1.10185693e+01 3.00741617e+04 4.10998225e-01\n",
            " 6.75919684e-01 8.21085365e+00 1.20009520e+01 5.74619633e-02\n",
            " 7.09589381e-02 1.55117356e+04 7.78176991e+03 8.04484415e-01\n",
            " 1.19537617e+00 5.34872860e+00 6.60482261e+00 3.26832834e+00\n",
            " 1.46300644e+00 3.28129696e-02 6.33952396e+00 4.73695235e+00\n",
            " 2.62189093e-01 1.65828586e-02 2.46507118e+04 3.10894369e+00\n",
            " 1.38836603e-01 1.12199103e-01 3.34759592e-02 1.10538349e+00\n",
            " 2.88943272e+00 4.45353198e-01 2.03828401e+00 2.50741017e+01\n",
            " 3.70758625e-03 1.76532838e-01 5.58299385e+03 5.76374835e-02\n",
            " 1.16561920e+05 1.42218438e+00 2.39827597e+00 1.04758659e+00]\n"
          ]
        }
      ]
    },
    {
      "cell_type": "markdown",
      "metadata": {
        "id": "7m23tRPeLr5m"
      },
      "source": [
        "- Extract the non-zerovalues"
      ]
    },
    {
      "cell_type": "code",
      "metadata": {
        "id": "A0-itrWaKe7A",
        "colab": {
          "base_uri": "https://localhost:8080/"
        },
        "outputId": "2b4242fb-9a22-4866-a779-f17b7310d9b3"
      },
      "source": [
        "def extract_non_zero(alpha, inputs, targets, threshold):\n",
        "    new_alpha = []\n",
        "    new_x = []\n",
        "    new_t = []\n",
        "  \n",
        "    for i in range(N):\n",
        "        if alpha[i] > threshold:\n",
        "            new_alpha.append(alpha[i])\n",
        "            new_x.append(inputs[i])\n",
        "            new_t.append(targets[i])\n",
        "    \n",
        "    return {'alpha': new_alpha, 'x': new_x, 't': new_t}\n",
        "\n",
        "sv = extract_non_zero(alpha, inputs, targets, threshold)\n",
        "\n",
        "sv_alpha = sv['alpha']\n",
        "print(f\"Alpha for SV: {sv_alpha}\")\n",
        "sv_input = sv['x']\n",
        "print(f\"Points for SV: {sv_input}\")\n",
        "sv_target = sv['t']\n",
        "print(f\"Target for SV: {sv_target}\")"
      ],
      "execution_count": null,
      "outputs": [
        {
          "output_type": "stream",
          "name": "stdout",
          "text": [
            "Alpha for SV: [3651.213728549902, 0.09111664795938208, 2.8327210999150827, 0.035766996265412264, 6.543290131145089, 0.6386084146428861, 0.10374381120818871, 0.007068475000410701, 0.005053251851330966, 0.010802792072330097, 3.254474670002303, 0.07085105893446694, 0.3935685423388714, 4.1309174101143755, 17661.770603915953, 0.8471415968344809, 0.030253018081145437, 0.06843954120315042, 0.27388720048153936, 3973.669903143496, 0.11286788076495151, 21.893960085216985, 0.9966434836799323, 8648.892540136856, 0.07845955977741097, 0.029561095561251208, 3.785289879198126, 0.7440041741846322, 5.6334502163646345, 0.011965748269715415, 1.067370882721331, 0.003057562084840884, 0.1562733323249036, 0.6274007608628136, 2.0537597510649706, 0.5266525426482854, 0.05387981223479803, 2.387648972518651, 5.360904560387008, 1022.8775911586725, 0.5841170354533374, 11.01856927840476, 30074.161712091423, 0.41099822527054464, 0.6759196838490852, 8.210853650620344, 12.000951999740868, 0.0574619632500494, 0.07095893813619913, 15511.73563951134, 7781.769913311772, 0.8044844145157712, 1.195376173860712, 5.348728601744344, 6.60482261300522, 3.2683283379401664, 1.4630064361325237, 0.03281296956579805, 6.339523957078551, 4.7369523486328795, 0.2621890934196916, 0.016582858555448072, 24650.711791991605, 3.1089436912970285, 0.13883660267883194, 0.11219910347757737, 0.03347595921901651, 1.1053834912787543, 2.8894327212815734, 0.44535319763235753, 2.0382840141314804, 25.07410168375999, 0.0037075862462034076, 0.17653283758324417, 5582.993846806202, 0.05763748348005935, 116561.91952691277, 1.4221843818687154, 2.3982759740872592, 1.0475865898777281]\n",
            "Points for SV: [array([-1.44138551,  0.35712972]), array([-1.63600494,  0.54645074]), array([-1.44990143,  0.56928964]), array([-1.44802344,  0.65636457]), array([ 0.10099746, -0.32684896]), array([-1.1268451 ,  0.59476658]), array([ 0.13725204, -0.82254317]), array([-0.15456504, -0.54736372]), array([-1.51542034,  0.56823039]), array([ 0.012856  , -0.71554896]), array([ 0.01164174, -0.72859406]), array([1.61737142, 0.93809113]), array([ 0.04281875, -0.74914776]), array([-0.14607333, -0.45670828]), array([1.66270344, 0.25382714]), array([ 0.07155747, -0.38784309]), array([ 0.21661025, -0.28923959]), array([1.51993027, 0.39930487]), array([-0.09707271, -0.48362517]), array([1.65820639, 0.31812251]), array([-0.2141785 , -0.40350552]), array([1.4314571 , 0.33954455]), array([-1.30732477,  0.58255619]), array([-1.67790289,  0.33683794]), array([ 0.00911437, -0.63032007]), array([1.31611515, 0.80998688]), array([-1.39561169,  0.55939693]), array([-1.44466184,  0.66543665]), array([-0.09498906, -0.63066585]), array([-0.30387399, -0.59684681]), array([ 0.08876389, -0.34507319]), array([ 0.46293171, -0.87345304]), array([ 0.42443124, -0.29350695]), array([1.11624576, 0.49469722]), array([ 0.03463619, -0.42293652]), array([1.28753926, 0.59471849]), array([-0.08930299, -0.32872024]), array([ 0.10300705, -0.39724281]), array([1.21692585, 0.41587094]), array([ 0.1141781 , -0.27288687]), array([-1.33558797,  0.8793586 ]), array([-1.45450801,  0.76142855]), array([-1.74739014,  0.23590868]), array([1.46774286, 0.58081017]), array([ 0.19080035, -0.36972175]), array([-0.06305385, -0.34820616]), array([-1.7382607 ,  0.63131072]), array([ 0.09464752, -0.51456578]), array([1.30189273, 0.38674045]), array([1.49305765, 0.26626439]), array([-1.26828088,  0.33586354]), array([1.72856456, 0.65038661]), array([-1.55293137,  1.04403383]), array([-1.69493633,  0.65741692]), array([-0.13235729, -0.32951333]), array([-0.40502852, -0.46270914]), array([-0.25217679, -0.31642761]), array([-0.27553387, -0.68756501]), array([-0.15850415, -0.52294729]), array([1.55151008, 0.48511082]), array([1.34334934, 0.4355877 ]), array([-0.16935874, -0.80296944]), array([1.78055886, 0.21962979]), array([1.51204604, 0.99264842]), array([1.18986731, 0.51371259]), array([-0.17677149, -0.46925498]), array([ 0.12513347, -0.67143151]), array([ 0.42878882, -0.3732162 ]), array([-0.04469256, -0.3571999 ]), array([ 0.25338223, -0.64153389]), array([-1.82149665,  0.53692677]), array([-1.49739962,  0.79070682]), array([-0.24005928, -0.56690025]), array([-0.14306074, -0.36408045]), array([-1.54907762,  0.34925277]), array([ 0.35309085, -0.41900366]), array([0.10300954, 0.2705463 ]), array([-0.09438637, -0.28220988]), array([1.46152781, 0.56030947]), array([1.87723718, 0.53491556])]\n",
            "Target for SV: [1.0, 1.0, 1.0, 1.0, -1.0, 1.0, -1.0, -1.0, 1.0, -1.0, -1.0, 1.0, -1.0, -1.0, 1.0, -1.0, -1.0, 1.0, -1.0, 1.0, -1.0, 1.0, 1.0, 1.0, -1.0, 1.0, 1.0, 1.0, -1.0, -1.0, -1.0, -1.0, -1.0, 1.0, -1.0, 1.0, -1.0, -1.0, 1.0, -1.0, 1.0, 1.0, 1.0, 1.0, -1.0, -1.0, 1.0, -1.0, 1.0, 1.0, 1.0, 1.0, 1.0, 1.0, -1.0, -1.0, -1.0, -1.0, -1.0, 1.0, 1.0, -1.0, 1.0, 1.0, 1.0, -1.0, -1.0, -1.0, -1.0, -1.0, 1.0, 1.0, -1.0, -1.0, 1.0, -1.0, -1.0, -1.0, 1.0, 1.0]\n"
          ]
        }
      ]
    },
    {
      "cell_type": "markdown",
      "metadata": {
        "id": "Q_kYrKFTN1_q"
      },
      "source": [
        "- Calculate the b value"
      ]
    },
    {
      "cell_type": "code",
      "metadata": {
        "id": "15eW4HliN4di"
      },
      "source": [
        "def dual_formula(input, sv_alphas, sv_inputs, sv_targets, kernel_args):\n",
        "    result = [kernel(input, sv_input, kernel_args) for sv_input in sv_inputs]\n",
        "    result = np.multiply(sv_targets, result)\n",
        "    result = np.multiply(sv_alphas, result)\n",
        "    return np.sum(result)\n",
        "\n",
        "def calculate_bias(sv_alphas, sv_inputs, sv_targets, kernel_args):\n",
        "    # choose one support vector to calculate bias\n",
        "    idx = 0\n",
        "    result = dual_formula(sv_inputs[idx], sv_alphas, sv_inputs, sv_targets, kernel_args) - sv_targets[idx]\n",
        "    return result\n",
        "\n",
        "def indicator_function(input, sv_alphas, sv_inputs, sv_targets, bias, kernel_args):\n",
        "    # only one input record is needed for inference\n",
        "    return dual_formula(input, sv_alphas, sv_inputs, sv_targets, kernel_args) - bias"
      ],
      "execution_count": null,
      "outputs": []
    },
    {
      "cell_type": "code",
      "metadata": {
        "id": "OckPEDGbZPPZ",
        "colab": {
          "base_uri": "https://localhost:8080/"
        },
        "outputId": "1a55a4fd-6da2-4232-8de7-a5c89481ae11"
      },
      "source": [
        "# just for testing - the values are not realistic\n",
        "sv_alp = [1,2]\n",
        "sv_in = [[1,2],[3,4]]\n",
        "sv_t = [2,1]\n",
        "\n",
        "calculate_bias(sv_alp, sv_in, sv_t, kernel_args)"
      ],
      "execution_count": null,
      "outputs": [
        {
          "output_type": "execute_result",
          "data": {
            "text/plain": [
              "30"
            ]
          },
          "metadata": {},
          "execution_count": 20
        }
      ]
    },
    {
      "cell_type": "code",
      "metadata": {
        "id": "yb-A15yXZOq4"
      },
      "source": [
        "bias = calculate_bias(sv_alpha, sv_input, sv_target, kernel_args)"
      ],
      "execution_count": null,
      "outputs": []
    },
    {
      "cell_type": "markdown",
      "metadata": {
        "id": "n_i3yfiENf1u"
      },
      "source": [
        "Single point prediction"
      ]
    },
    {
      "cell_type": "code",
      "metadata": {
        "id": "BUDK7HhdZjIS",
        "colab": {
          "base_uri": "https://localhost:8080/"
        },
        "outputId": "f46ad038-a095-44d8-e006-5ed075d21d9f"
      },
      "source": [
        "indicator_function(inputs[0], sv_alpha, sv_input, sv_target, bias, kernel_args)"
      ],
      "execution_count": null,
      "outputs": [
        {
          "output_type": "execute_result",
          "data": {
            "text/plain": [
              "1.0"
            ]
          },
          "metadata": {},
          "execution_count": 22
        }
      ]
    },
    {
      "cell_type": "markdown",
      "metadata": {
        "id": "Ug4xTsuIkOBE"
      },
      "source": [
        "### 6.1. Plotting the Decision Boundary\n"
      ]
    },
    {
      "cell_type": "markdown",
      "metadata": {
        "id": "HGIkPZRJkzdp"
      },
      "source": [
        "> SVM"
      ]
    },
    {
      "cell_type": "code",
      "metadata": {
        "id": "CFdrZY3Nk5AL"
      },
      "source": [
        "def buildSVM(inputs, targets, threshold, C, kernel_args, grid_args, plt, merge_plots=True, experiment=\"plot\"):\n",
        "    N = inputs.shape[0]\n",
        "    bounds = [(0, C) for b in range(N)]\n",
        "    XC = [{'type':'eq', 'fun':zerofun}]\n",
        "\n",
        "    ret = minimize(objective, np.zeros(N), bounds=bounds, constraints=XC)\n",
        "    alphas = ret['x']\n",
        "\n",
        "    sv = extract_non_zero(alphas, inputs, targets, threshold)\n",
        "    bias = calculate_bias(sv['alpha'], sv['x'], sv['t'], kernel_args)\n",
        "\n",
        "    gridX = np.linspace(grid_args['grid_x_min'], grid_args['grid_x_max'])\n",
        "    gridY = np.linspace(grid_args['grid_y_min'], grid_args['grid_y_max'])\n",
        "\n",
        "    grid = np.array([[indicator_function([x,y], sv['alpha'], sv['x'], sv['t'], bias, kernel_args)\n",
        "            for x in gridX]\n",
        "            for y in gridY])\n",
        "    \n",
        "    if not merge_plots:\n",
        "        plt.show()\n",
        "\n",
        "    plt.contour(gridX, gridY, grid, (-1.0, 0.0, 1.0),\n",
        "        colors = ('red', 'black', 'blue'),\n",
        "        linewidths = (1, 3, 1))\n",
        "\n",
        "    plt.savefig(f\"{experiment}.pdf\")\n"
      ],
      "execution_count": null,
      "outputs": []
    },
    {
      "cell_type": "code",
      "metadata": {
        "colab": {
          "base_uri": "https://localhost:8080/",
          "height": 269
        },
        "id": "mlAWndw-lyLZ",
        "outputId": "fc499b55-2fc9-4251-b051-b27f96228914"
      },
      "source": [
        "# hyperparameters\n",
        "threshold = math.pow(10, -5)\n",
        "C = None\n",
        "kernel_args = {'type': 'rbf', 'sigma': 0.2}\n",
        "grid_args = {'grid_x_min':-2, 'grid_x_max':2, 'grid_y_min':-2, 'grid_y_max':2}\n",
        "dataplot = plotData(classA, classB, grid_args)\n",
        "\n",
        "p_matrix = calculate_p_matrix(inputs, targets, kernel_args)\n",
        "buildSVM(inputs, targets, threshold, C, kernel_args, grid_args, dataplot, merge_plots=True)"
      ],
      "execution_count": null,
      "outputs": [
        {
          "output_type": "display_data",
          "data": {
            "image/png": "[encoded data removed]",
            "text/plain": [
              "<Figure size 432x288 with 1 Axes>"
            ]
          },
          "metadata": {
            "needs_background": "light"
          }
        }
      ]
    },
    {
      "cell_type": "markdown",
      "metadata": {
        "id": "FN31m1XhSJ-8"
      },
      "source": [
        "### 7. Exploring and reporting\n",
        "#### 7.1. Move the clusters around and change their sizes\n"
      ]
    },
    {
      "cell_type": "code",
      "metadata": {
        "id": "DR0TZovHfTxq"
      },
      "source": [
        "grid_args = {'grid_x_min':-2, 'grid_x_max':2, 'grid_y_min':-2, 'grid_y_max':2}\n",
        "\n",
        "# SVM part\n",
        "threshold = math.pow(10, -5)\n",
        "C = None\n",
        "kernel_args = {'type': 'linear'}"
      ],
      "execution_count": null,
      "outputs": []
    },
    {
      "cell_type": "code",
      "metadata": {
        "id": "XkAVy_lR5BHh",
        "colab": {
          "base_uri": "https://localhost:8080/",
          "height": 269
        },
        "outputId": "9abe772e-e82a-442d-f16c-269bb2a98d61"
      },
      "source": [
        "# data generation part\n",
        "\n",
        "filename = \"plot0\" # decent boundary\n",
        "classA = np.concatenate(\n",
        "        (np.random.randn(10, 2) * 0.2 + [1.5, 0.5],\n",
        "        np.random.randn(10, 2) * 0.2 + [-1.5, 0.5]))\n",
        "classB = np.random.randn(20, 2) * 0.2 + [0.0, -0.5]\n",
        "\n",
        "inputs, targets, N = generate_dataset(classA, classB)\n",
        "dataplot = plotData(classA, classB, grid_args)\n",
        "\n",
        "p_matrix = calculate_p_matrix(inputs, targets, kernel_args)\n",
        "buildSVM(inputs, targets, threshold, C, kernel_args, grid_args, dataplot, experiment=filename)"
      ],
      "execution_count": null,
      "outputs": [
        {
          "output_type": "display_data",
          "data": {
            "image/png": "[encoded data removed]",
            "text/plain": [
              "<Figure size 432x288 with 1 Axes>"
            ]
          },
          "metadata": {
            "needs_background": "light"
          }
        }
      ]
    },
    {
      "cell_type": "code",
      "metadata": {
        "id": "1bjTTZQzf17M",
        "colab": {
          "base_uri": "https://localhost:8080/",
          "height": 269
        },
        "outputId": "26b5ab4c-2c03-423c-a0d2-1491800de760"
      },
      "source": [
        "filename = \"plot1\" # the clusters are too big\n",
        "\n",
        "classA = np.concatenate(\n",
        "        (np.random.randn(10, 2) * 0.3 + [1.5, 0.5],\n",
        "        np.random.randn(10, 2) * 0.3 + [-1.5, 0.5]))\n",
        "classB = np.random.randn(20, 2) * 0.3 + [0.0, -0.5]\n",
        "\n",
        "inputs, targets, N = generate_dataset(classA, classB)\n",
        "dataplot = plotData(classA, classB, grid_args)\n",
        "\n",
        "p_matrix = calculate_p_matrix(inputs, targets, kernel_args)\n",
        "buildSVM(inputs, targets, threshold, C, kernel_args, grid_args, dataplot, experiment=filename)"
      ],
      "execution_count": null,
      "outputs": [
        {
          "output_type": "display_data",
          "data": {
            "image/png": "[encoded data removed]",
            "text/plain": [
              "<Figure size 432x288 with 1 Axes>"
            ]
          },
          "metadata": {
            "needs_background": "light"
          }
        }
      ]
    },
    {
      "cell_type": "code",
      "metadata": {
        "colab": {
          "base_uri": "https://localhost:8080/",
          "height": 269
        },
        "id": "vT5yfddFiFXX",
        "outputId": "f3a2bfdc-61a0-4952-f9a5-a26072c37ddb"
      },
      "source": [
        "filename = \"plot2\" # the clusters are too close to each other\n",
        "\n",
        "classA = np.concatenate(\n",
        "        (np.random.randn(10, 2) * 0.2 + [1.0, 0.5],\n",
        "        np.random.randn(10, 2) * 0.2 + [-1.0, 0.5]))\n",
        "classB = np.random.randn(20, 2) * 0.2 + [0.0, -0.5]\n",
        "\n",
        "inputs, targets, N = generate_dataset(classA, classB)\n",
        "dataplot = plotData(classA, classB, grid_args)\n",
        "\n",
        "p_matrix = calculate_p_matrix(inputs, targets, kernel_args)\n",
        "buildSVM(inputs, targets, threshold, C, kernel_args, grid_args, dataplot, experiment=filename)"
      ],
      "execution_count": null,
      "outputs": [
        {
          "output_type": "display_data",
          "data": {
            "image/png": "[encoded data removed]",
            "text/plain": [
              "<Figure size 432x288 with 1 Axes>"
            ]
          },
          "metadata": {
            "needs_background": "light"
          }
        }
      ]
    },
    {
      "cell_type": "markdown",
      "metadata": {
        "id": "Sg1cGFczSM_D"
      },
      "source": [
        "#### 7.3. Explore the parameters of the kernels\n",
        "- Polynomial Kernel"
      ]
    },
    {
      "cell_type": "code",
      "metadata": {
        "id": "LKjgZHw8SIQc"
      },
      "source": [
        "grid_args = {'grid_x_min':-2, 'grid_x_max':2, 'grid_y_min':-2, 'grid_y_max':2}\n",
        "\n",
        "# SVM part\n",
        "threshold = math.pow(10, -5)\n",
        "C = None\n",
        "kernel_args = {'type': 'polynomial', 'power':2}"
      ],
      "execution_count": null,
      "outputs": []
    },
    {
      "cell_type": "code",
      "metadata": {
        "colab": {
          "base_uri": "https://localhost:8080/",
          "height": 269
        },
        "id": "e7HMMXMEjPEl",
        "outputId": "1655736e-2b20-43a7-de1f-d97e99bc6396"
      },
      "source": [
        "filename = \"plot3\" # decent boundary, except if power is too big\n",
        "classA = np.concatenate(\n",
        "        (np.random.randn(10, 2) * 0.2 + [1.5, 0.5],\n",
        "        np.random.randn(10, 2) * 0.2 + [-1.5, 0.5]))\n",
        "classB = np.random.randn(20, 2) * 0.2 + [0.0, -0.5]\n",
        "\n",
        "inputs, targets, N = generate_dataset(classA, classB)\n",
        "dataplot = plotData(classA, classB, grid_args)\n",
        "\n",
        "p_matrix = calculate_p_matrix(inputs, targets, kernel_args)\n",
        "buildSVM(inputs, targets, threshold, C, kernel_args, grid_args, dataplot, experiment=filename)"
      ],
      "execution_count": null,
      "outputs": [
        {
          "output_type": "display_data",
          "data": {
            "image/png": "[encoded data removed]",
            "text/plain": [
              "<Figure size 432x288 with 1 Axes>"
            ]
          },
          "metadata": {
            "needs_background": "light"
          }
        }
      ]
    },
    {
      "cell_type": "code",
      "metadata": {
        "colab": {
          "base_uri": "https://localhost:8080/",
          "height": 269
        },
        "id": "ZryB4CQIjuNv",
        "outputId": "c129e72e-3c31-495c-a3ab-354c435e77af"
      },
      "source": [
        "filename = \"plot4\" # the clusters are bigger and closer\n",
        "\n",
        "classA = np.concatenate(\n",
        "        (np.random.randn(10, 2) * 0.3 + [1.0, 0.5],\n",
        "        np.random.randn(10, 2) * 0.3 + [-1.0, 0.5]))\n",
        "classB = np.random.randn(20, 2) * 0.3 + [0.0, -0.5]\n",
        "\n",
        "inputs, targets, N = generate_dataset(classA, classB)\n",
        "dataplot = plotData(classA, classB, grid_args)\n",
        "\n",
        "p_matrix = calculate_p_matrix(inputs, targets, kernel_args)\n",
        "buildSVM(inputs, targets, threshold, C, kernel_args, grid_args, dataplot, experiment=filename)"
      ],
      "execution_count": null,
      "outputs": [
        {
          "output_type": "display_data",
          "data": {
            "image/png": "[encoded data removed]",
            "text/plain": [
              "<Figure size 432x288 with 1 Axes>"
            ]
          },
          "metadata": {
            "needs_background": "light"
          }
        }
      ]
    },
    {
      "cell_type": "markdown",
      "metadata": {
        "id": "mFV3sPMrkrLK"
      },
      "source": [
        "- RBF Kernel"
      ]
    },
    {
      "cell_type": "code",
      "metadata": {
        "id": "2GKNvWVakue8"
      },
      "source": [
        "grid_args = {'grid_x_min':-2, 'grid_x_max':2, 'grid_y_min':-2, 'grid_y_max':2}\n",
        "\n",
        "# SVM part\n",
        "threshold = math.pow(10, -5)\n",
        "C = None\n",
        "kernel_args = {'type': 'rbf', 'sigma':0.3}"
      ],
      "execution_count": null,
      "outputs": []
    },
    {
      "cell_type": "code",
      "metadata": {
        "colab": {
          "base_uri": "https://localhost:8080/",
          "height": 269
        },
        "id": "DEDHSA0qk6Un",
        "outputId": "e29f5118-3f0c-4723-f7c4-7ba5b4eb76cd"
      },
      "source": [
        "filename = \"plot5\" # decent boundary\n",
        "classA = np.concatenate(\n",
        "        (np.random.randn(10, 2) * 0.2 + [1.5, 0.5],\n",
        "        np.random.randn(10, 2) * 0.2 + [-1.5, 0.5]))\n",
        "classB = np.random.randn(20, 2) * 0.2 + [0.0, -0.5]\n",
        "\n",
        "inputs, targets, N = generate_dataset(classA, classB)\n",
        "dataplot = plotData(classA, classB, grid_args)\n",
        "\n",
        "p_matrix = calculate_p_matrix(inputs, targets, kernel_args)\n",
        "buildSVM(inputs, targets, threshold, C, kernel_args, grid_args, dataplot, experiment=filename)"
      ],
      "execution_count": null,
      "outputs": [
        {
          "output_type": "display_data",
          "data": {
            "image/png": "[encoded data removed]",
            "text/plain": [
              "<Figure size 432x288 with 1 Axes>"
            ]
          },
          "metadata": {
            "needs_background": "light"
          }
        }
      ]
    },
    {
      "cell_type": "code",
      "metadata": {
        "colab": {
          "base_uri": "https://localhost:8080/",
          "height": 269
        },
        "id": "4iiT09KalHPp",
        "outputId": "197bb48c-428d-4f60-dab3-2f7e164193fd"
      },
      "source": [
        "filename = \"plot6\" # the clusters are bigger and closer\n",
        "\n",
        "classA = np.concatenate(\n",
        "        (np.random.randn(10, 2) * 0.3 + [1.0, 0.5],\n",
        "        np.random.randn(10, 2) * 0.3 + [-1.0, 0.5]))\n",
        "classB = np.random.randn(20, 2) * 0.3 + [0.0, -0.5]\n",
        "\n",
        "inputs, targets, N = generate_dataset(classA, classB)\n",
        "dataplot = plotData(classA, classB, grid_args)\n",
        "\n",
        "p_matrix = calculate_p_matrix(inputs, targets, kernel_args)\n",
        "buildSVM(inputs, targets, threshold, C, kernel_args, grid_args, dataplot, experiment=filename)"
      ],
      "execution_count": null,
      "outputs": [
        {
          "output_type": "display_data",
          "data": {
            "image/png": "[encoded data removed]",
            "text/plain": [
              "<Figure size 432x288 with 1 Axes>"
            ]
          },
          "metadata": {
            "needs_background": "light"
          }
        }
      ]
    },
    {
      "cell_type": "markdown",
      "metadata": {
        "id": "Po-gzUIWlcae"
      },
      "source": [
        "From the three kernels, the linear looks to be the weakest one. It is however not a surprise, as the implementation of it is just a scalar product between two points.\n",
        "\n",
        "The polynomial kernel allows for curved decision boundaries. This kernel has a hyperparameter *p*, which is the degree of the polynomial. As the degree increases, so does the complexity of the model. More complexity means overfitting and therefore more variance and less bias. \n",
        "\n",
        "Finally, the RBF kernel looks to be the most powerful, as it can form circular areas in the decision space, which are very good boundaries. Similarly to the polynomial kernel, we also have a hyperparameter, called *sigma* in this case. The *sigma* parameters changes the smoothness of the boundaries, so that a smaller *sigma* (like 0.1) results in a overfitting model and a higher sigma (like 0.5) results in a general model. Consequently, the higher the *sigma*, the higher the bias and the lower the variance. "
      ]
    },
    {
      "cell_type": "markdown",
      "metadata": {
        "id": "aVd4bhs8i4s2"
      },
      "source": [
        "#### 7.4. Explore the slack variable\n",
        "We chose to use a linear kernel because it's the simplest one, which means that less parameters are influencing the experiment.\n",
        "\n",
        "Slack variables allows some datapoints to be inside the margin, i.e. misclassified.\n",
        "\n",
        "The parameter C sets the relative importance of avoiding slack versus getting a wider margin. How do we choose the parameter C?\n",
        "- if the data is very noisy, choose a *low* C to allow more slack, since those points are noise\n",
        "- if the data is not too noisy, maybe we don't want to let a lot of points be misclassified and so we should choose a *higher* C\n"
      ]
    },
    {
      "cell_type": "code",
      "metadata": {
        "id": "fRmytayDpiKF"
      },
      "source": [
        "grid_args = {'grid_x_min':-2, 'grid_x_max':2, 'grid_y_min':-2, 'grid_y_max':2}\n",
        "\n",
        "# SVM part\n",
        "threshold = math.pow(10, -5)\n",
        "kernel_args = {'type': 'linear'}"
      ],
      "execution_count": null,
      "outputs": []
    },
    {
      "cell_type": "code",
      "metadata": {
        "colab": {
          "base_uri": "https://localhost:8080/",
          "height": 269
        },
        "id": "vW3eQzuFp1ll",
        "outputId": "89e79d63-82be-427c-c217-f9acdd6c0e95"
      },
      "source": [
        "classA = np.concatenate(\n",
        "        (np.random.randn(10, 2) * 0.28 + [1.5, 0.5],\n",
        "        np.random.randn(10, 2) * 0.28 + [-1.5, 0.5]))\n",
        "classB = np.random.randn(20, 2) * 0.28 + [0.0, -0.5]\n",
        "\n",
        "inputs, targets, N = generate_dataset(classA, classB)\n",
        "dataplot = plotData(classA, classB, grid_args)"
      ],
      "execution_count": null,
      "outputs": [
        {
          "output_type": "display_data",
          "data": {
            "image/png": "[encoded data removed]",
            "text/plain": [
              "<Figure size 432x288 with 1 Axes>"
            ]
          },
          "metadata": {
            "needs_background": "light"
          }
        }
      ]
    },
    {
      "cell_type": "code",
      "metadata": {
        "colab": {
          "base_uri": "https://localhost:8080/",
          "height": 269
        },
        "id": "ud2GAj5lqYtY",
        "outputId": "3e483bf1-90de-473c-8c9c-e6e8c681ce26"
      },
      "source": [
        "filename = \"plot7\" # high C\n",
        "C = 10\n",
        "p_matrix = calculate_p_matrix(inputs, targets, kernel_args)\n",
        "\n",
        "dataplot = plotData(classA, classB, grid_args)\n",
        "buildSVM(inputs, targets, threshold, C, kernel_args, grid_args, dataplot, experiment=filename)"
      ],
      "execution_count": null,
      "outputs": [
        {
          "output_type": "display_data",
          "data": {
            "image/png": "[encoded data removed]",
            "text/plain": [
              "<Figure size 432x288 with 1 Axes>"
            ]
          },
          "metadata": {
            "needs_background": "light"
          }
        }
      ]
    },
    {
      "cell_type": "code",
      "metadata": {
        "colab": {
          "base_uri": "https://localhost:8080/",
          "height": 269
        },
        "id": "9rraM1pCtFe5",
        "outputId": "eaf4ecaf-a31d-4ebb-ac43-66b2a2868bb4"
      },
      "source": [
        "filename = \"plot8\" # too low C\n",
        "C = 0.5\n",
        "p_matrix = calculate_p_matrix(inputs, targets, kernel_args)\n",
        "\n",
        "dataplot = plotData(classA, classB, grid_args)\n",
        "buildSVM(inputs, targets, threshold, C, kernel_args, grid_args, dataplot, experiment=filename)"
      ],
      "execution_count": null,
      "outputs": [
        {
          "output_type": "display_data",
          "data": {
            "image/png": "[encoded data removed]",
            "text/plain": [
              "<Figure size 432x288 with 1 Axes>"
            ]
          },
          "metadata": {
            "needs_background": "light"
          }
        }
      ]
    },
    {
      "cell_type": "code",
      "metadata": {
        "colab": {
          "base_uri": "https://localhost:8080/",
          "height": 269
        },
        "id": "t3yAmy_LtdD2",
        "outputId": "8fa01a5e-24de-4ceb-ed98-ef187413f82d"
      },
      "source": [
        "filename = \"plot9\" # too high C, almost similar to an SVM without slack\n",
        "C = 100\n",
        "p_matrix = calculate_p_matrix(inputs, targets, kernel_args)\n",
        "\n",
        "dataplot = plotData(classA, classB, grid_args)\n",
        "buildSVM(inputs, targets, threshold, C, kernel_args, grid_args, dataplot, experiment=filename)"
      ],
      "execution_count": null,
      "outputs": [
        {
          "output_type": "display_data",
          "data": {
            "image/png": "[encoded data removed]",
            "text/plain": [
              "<Figure size 432x288 with 1 Axes>"
            ]
          },
          "metadata": {
            "needs_background": "light"
          }
        }
      ]
    },
    {
      "cell_type": "markdown",
      "metadata": {
        "id": "TEDrqH2jo8Az"
      },
      "source": [
        "#### 7.5. More slack vs More complex kernel\n",
        "We should use **slack variables** when the data is not linearly separable (for example, when there is some noise), but if the slack is too big (low C), then almost all of the data will be misclassified.\n",
        "\n",
        "If you look at the data and see that most points are together apart from some which are outliers, then you can consider that those points are noise. In this case, you should use a high slack (low C) because there's no problem in misclassifying those points in order to get wider margins.\n",
        "\n",
        "However, if the datapoints looks to be correlated in a complex way or in a case where the clusters are too sparse and intercepting each other, then using a more complex kernel will be a better option. This is because in this case, the data itself its complex so it doesn't make sense to sacrifice a few points with slack just to get a more general model (or wider margins)"
      ]
    }
  ]
}