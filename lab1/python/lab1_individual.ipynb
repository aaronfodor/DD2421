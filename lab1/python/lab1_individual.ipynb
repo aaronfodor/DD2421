{
 "cells": [
  {
   "cell_type": "markdown",
   "source": [
    "# 1 Preparations"
   ],
   "metadata": {}
  },
  {
   "cell_type": "code",
   "execution_count": 1,
   "source": [
    "import monkdata as m\r\n",
    "import dtree as d\r\n",
    "import drawtree_qt5 as dt\r\n",
    "import numpy as np\r\n",
    "\r\n",
    "%matplotlib inline\r\n",
    "import matplotlib.pyplot as plt"
   ],
   "outputs": [],
   "metadata": {}
  },
  {
   "cell_type": "markdown",
   "source": [
    "# 2 MONK datasets"
   ],
   "metadata": {}
  },
  {
   "cell_type": "markdown",
   "source": [
    "## Assignment 0\r\n",
    ">Each one of the datasets has properties which makes\r\n",
    "them hard to learn. Motivate which of the three problems is most\r\n",
    "difficult for a decision tree algorithm to learn."
   ],
   "metadata": {}
  },
  {
   "cell_type": "markdown",
   "source": [
    "- independent variables. In MONK-3 variables are basically independent of each other. MONK-1 a1=a2 creates a dependency. MONK-2 all of them are dependent\r\n",
    "- meaningful number of attributes:\r\n",
    "    - MONK-1: 3\r\n",
    "    - MONK-2: 6\r\n",
    "    - MONK-3: 3\r\n",
    "- values that control the whole branch, like a5 = 1 (in MONK-1) or a5 = 4 (in MONK-3). The value of this attribute is enough to compute the result of that branch\r\n",
    "- MONK-1 and MONK-3 are relatively easy to express with predicate calculus, but MONK-2 is not. This means that it is hard to model with decision trees because it is hard to express and thus we need lots of data to model it.\r\n",
    "      "
   ],
   "metadata": {}
  },
  {
   "cell_type": "markdown",
   "source": [
    "# 3 Entropy"
   ],
   "metadata": {}
  },
  {
   "cell_type": "markdown",
   "source": [
    "## Assignment 1\r\n",
    ">The file dtree.py defines a function entropy which\r\n",
    "calculates the entropy of a dataset. Import this file along with the\r\n",
    "monks datasets and use it to calculate the entropy of the training\r\n",
    "datasets.\r\n"
   ],
   "metadata": {}
  },
  {
   "cell_type": "code",
   "execution_count": 2,
   "source": [
    "train_sets = [m.monk1, m.monk2, m.monk3]\r\n",
    "train_entropies = []\r\n",
    "\r\n",
    "for dataset in train_sets:\r\n",
    "    train_entropies.append(d.entropy(dataset))"
   ],
   "outputs": [],
   "metadata": {}
  },
  {
   "cell_type": "code",
   "execution_count": 3,
   "source": [
    "print(train_entropies)"
   ],
   "outputs": [
    {
     "output_type": "stream",
     "name": "stdout",
     "text": [
      "[1.0, 0.957117428264771, 0.9998061328047111]\n"
     ]
    }
   ],
   "metadata": {}
  },
  {
   "cell_type": "markdown",
   "source": [
    "## Assignment 2\r\n",
    ">Explain entropy for a uniform distribution and a\r\n",
    "non-uniform distribution, present some example distributions with\r\n",
    "high and low entropy."
   ],
   "metadata": {}
  },
  {
   "cell_type": "markdown",
   "source": [
    "Entropy measures the level of uncertainty of something. So, in a uniform distribution, the entropy will always be maximum because all events have equal probability of happening, whereas, in non-uniform distributions, some events have more probability of happening, which is saying that the level of uncertainty is lower. For example. if you flip a coin, both outcomes have the same probability, which is 0.5. So, the entropy will be\r\n",
    "\r\n",
    "    -0.5\\*log2(0.5) -0.5\\*log2(0.5) = 0.5 + 0.5 = 1\r\n",
    "\r\n",
    "On the other hand, if you have a bag with 3 balls inside, where one of them is red and the other two are blue, then it's expectable that the probability of randomly taking out a blue ball it's higher (actually 2/3). Therefore, the level of uncertainty is lower and consequently the entropy is also lower. Here is the maths to show it:\r\n",
    "\r\n",
    "    -0.33\\*log2(0.33) -0.66\\*log2(0.66) = 0.5278 + 0.3956 = 0.9234"
   ],
   "metadata": {}
  },
  {
   "cell_type": "markdown",
   "source": [
    "# 4 Information Gain"
   ],
   "metadata": {}
  },
  {
   "cell_type": "markdown",
   "source": [
    "## Assignment 3\r\n",
    ">Use the function averageGain (defined in dtree.py)\r\n",
    "to calculate the expected information gain corresponding to each of\r\n",
    "the six attributes. Note that the attributes are represented as instances of the class Attribute (defined in monkdata.py) which you\r\n",
    "can access via m.attributes[0], ..., m.attributes[5]. Based on\r\n",
    "the results, which attribute should be used for splitting the examples\r\n",
    "at the root node?"
   ],
   "metadata": {}
  },
  {
   "cell_type": "code",
   "execution_count": 5,
   "source": [
    "attr_gains_datasets = []\r\n",
    "for dataset in train_sets:\r\n",
    "    attr_gains = []\r\n",
    "    for attribute in m.attributes:\r\n",
    "        avg_gain = d.averageGain(dataset, attribute)\r\n",
    "        attr_gains.append(avg_gain)\r\n",
    "    attr_gains_datasets.append(attr_gains)"
   ],
   "outputs": [],
   "metadata": {}
  },
  {
   "cell_type": "code",
   "execution_count": 6,
   "source": [
    "dataset_cntr = 1\r\n",
    "max_gains = []\r\n",
    "\r\n",
    "for dataset in attr_gains_datasets:\r\n",
    "    print(f\"Dataset {dataset_cntr}:\")\r\n",
    "    #print(f\"Best attr: {d.bestAttribute(dataset, dataset.)}\")\r\n",
    "    attr_cntr = 1\r\n",
    "    for attribute_gain in dataset:\r\n",
    "        print(f\"\\tA{attr_cntr} gain: {attribute_gain}\")\r\n",
    "        attr_cntr += 1\r\n",
    "    dataset_cntr += 1\r\n",
    "    max_gains.append(max(dataset))\r\n"
   ],
   "outputs": [
    {
     "output_type": "stream",
     "name": "stdout",
     "text": [
      "Dataset 1:\n",
      "\tA1 gain: 0.07527255560831925\n",
      "\tA2 gain: 0.005838429962909286\n",
      "\tA3 gain: 0.00470756661729721\n",
      "\tA4 gain: 0.02631169650768228\n",
      "\tA5 gain: 0.28703074971578435\n",
      "\tA6 gain: 0.0007578557158638421\n",
      "Dataset 2:\n",
      "\tA1 gain: 0.0037561773775118823\n",
      "\tA2 gain: 0.0024584986660830532\n",
      "\tA3 gain: 0.0010561477158920196\n",
      "\tA4 gain: 0.015664247292643818\n",
      "\tA5 gain: 0.01727717693791797\n",
      "\tA6 gain: 0.006247622236881467\n",
      "Dataset 3:\n",
      "\tA1 gain: 0.007120868396071844\n",
      "\tA2 gain: 0.29373617350838865\n",
      "\tA3 gain: 0.0008311140445336207\n",
      "\tA4 gain: 0.002891817288654397\n",
      "\tA5 gain: 0.25591172461972755\n",
      "\tA6 gain: 0.007077026074097326\n"
     ]
    }
   ],
   "metadata": {}
  },
  {
   "cell_type": "markdown",
   "source": [
    "Based on expected information gain, the following attributes should be used:\r\n",
    "- MONK-1: A5\r\n",
    "- MONK-2: A5 (even though the information gain is marginal)\r\n",
    "- MONK-3: A2"
   ],
   "metadata": {}
  },
  {
   "cell_type": "markdown",
   "source": [
    "## Assignment 4\r\n",
    ">For splitting we choose the attribute that maximizes\r\n",
    "the information gain, Eq.3. Looking at Eq.3 how does the entropy of\r\n",
    "the subsets, Sk, look like when the information gain is maximized?\r\n",
    "How can we motivate using the information gain as a heuristic for\r\n",
    "picking an attribute for splitting? Think about reduction in entropy\r\n",
    "after the split and what the entropy implies.\r\n"
   ],
   "metadata": {}
  },
  {
   "cell_type": "code",
   "execution_count": 8,
   "source": [
    "#Short story\r\n",
    "new_entropies = []\r\n",
    "\r\n",
    "for entropy, gain in zip(train_entropies, max_gains):\r\n",
    "    new_entropies.append(entropy - gain)"
   ],
   "outputs": [],
   "metadata": {}
  },
  {
   "cell_type": "code",
   "execution_count": 9,
   "source": [
    "print(new_entropies)"
   ],
   "outputs": [
    {
     "output_type": "stream",
     "name": "stdout",
     "text": [
      "[0.7129692502842156, 0.939840251326853, 0.7060699592963224]\n"
     ]
    }
   ],
   "metadata": {}
  },
  {
   "cell_type": "code",
   "execution_count": 9,
   "source": [
    "#Long story\r\n",
    "sum_entropies = 0\r\n",
    "dataset = m.monk1\r\n",
    "\r\n",
    "for i in range(1, 5):\r\n",
    "    subset = d.select(dataset, m.attributes[4], i)\r\n",
    "    subset_entropy = d.entropy(subset)\r\n",
    "    sum_entropies += subset_entropy*(len(subset)/len(dataset))\r\n",
    "print(sum_entropies)"
   ],
   "outputs": [
    {
     "output_type": "stream",
     "name": "stdout",
     "text": [
      "0.7129692502842158\n"
     ]
    }
   ],
   "metadata": {}
  },
  {
   "cell_type": "markdown",
   "source": [
    "Entropy is the level of uncertainty. If the attribute which has the most information gain is chosen for splitting, the uncertainty of the data is decreased in the most optimal way. In practical words, that attribute contributes the most in decision making.\r\n",
    "\r\n",
    "The information gain as a heuristic can help finding attributes which are more important than others. The equation provides a measurable value for that. This is the value the entropy can be decreased with, thus that should be maximized. After finding the most optimal candidate, a decision tree can split the data based on that attribute. This maximizes the difference of the following branches (as the information gain means exactly this - the data is separated the best possible way). This process can be recursively continued - leading to a decision tree which separates the data the best possible way at all levels starting from its root.\r\n",
    "\r\n",
    "This process leads to an algorithm with the highest possible information gain in every level, minimizing the size of the decision tree. But keep in mind that this is a local choice, which means that even if it is the best option locally, it is not always the best globally - it's a greedy algorithm."
   ],
   "metadata": {}
  },
  {
   "cell_type": "markdown",
   "source": [
    "# 5 Building Decision Trees"
   ],
   "metadata": {}
  },
  {
   "cell_type": "markdown",
   "source": [
    ">Split the monk1 data into subsets according to the selected attribute using\r\n",
    "the function select (again, defined in dtree.py) and compute the information gains for the nodes on the next level of the tree. Which attributes\r\n",
    "should be tested for these nodes?"
   ],
   "metadata": {}
  },
  {
   "cell_type": "code",
   "execution_count": 46,
   "source": [
    "def createSubsets(dataset, attribute):\r\n",
    "    split_attr = attribute\r\n",
    "    distinct_values = split_attr.values\r\n",
    "\r\n",
    "    subsets = []\r\n",
    "    for value in distinct_values:\r\n",
    "        subsets.append(d.select(dataset, split_attr, value))\r\n",
    "    return subsets"
   ],
   "outputs": [],
   "metadata": {}
  },
  {
   "cell_type": "code",
   "execution_count": 47,
   "source": [
    "# split based on the distinct values of A5 (indices from 0..5 -> A5=4)\r\n",
    "monk1_subsets = createSubsets(m.monk1, m.attributes[4])\r\n",
    "\r\n",
    "cntr_subset = 1\r\n",
    "for subset in monk1_subsets:\r\n",
    "    print(f\"Subset {cntr_subset}:\")\r\n",
    "    attr_cntr = 1\r\n",
    "    for attribute in m.attributes:\r\n",
    "        avg_gain = d.averageGain(subset, attribute)\r\n",
    "        print(f\"\\tA{attr_cntr} gain: {avg_gain}\")\r\n",
    "        attr_cntr += 1\r\n",
    "    cntr_subset += 1"
   ],
   "outputs": [
    {
     "output_type": "stream",
     "name": "stdout",
     "text": [
      "Subset 1:\n",
      "\tA1 gain: 0.0\n",
      "\tA2 gain: 0.0\n",
      "\tA3 gain: 0.0\n",
      "\tA4 gain: 0.0\n",
      "\tA5 gain: 0.0\n",
      "\tA6 gain: 0.0\n",
      "Subset 2:\n",
      "\tA1 gain: 0.040216841609413634\n",
      "\tA2 gain: 0.015063475072186083\n",
      "\tA3 gain: 0.03727262736015946\n",
      "\tA4 gain: 0.04889220262952931\n",
      "\tA5 gain: 0.0\n",
      "\tA6 gain: 0.025807284723902146\n",
      "Subset 3:\n",
      "\tA1 gain: 0.03305510013455182\n",
      "\tA2 gain: 0.002197183539100922\n",
      "\tA3 gain: 0.017982293842278896\n",
      "\tA4 gain: 0.01912275517747053\n",
      "\tA5 gain: 0.0\n",
      "\tA6 gain: 0.04510853782483648\n",
      "Subset 4:\n",
      "\tA1 gain: 0.20629074641530198\n",
      "\tA2 gain: 0.033898395077640586\n",
      "\tA3 gain: 0.025906145434984817\n",
      "\tA4 gain: 0.07593290844153944\n",
      "\tA5 gain: 0.0\n",
      "\tA6 gain: 0.0033239629631565126\n"
     ]
    }
   ],
   "metadata": {}
  },
  {
   "cell_type": "markdown",
   "source": [
    "The following attributes should be tested on the next level:\r\n",
    "- Subset 1: nothing (as this subset already contains the same Y labels, in this subset of the problem, no matter the value of the attributes, the outcome is always TRUE)\r\n",
    "- Subset 2: A4\r\n",
    "- Subset 3: A6\r\n",
    "- Subset 4: A1"
   ],
   "metadata": {}
  },
  {
   "cell_type": "markdown",
   "source": [
    ">For the monk1 data draw the decision tree up to the first two levels and\r\n",
    "assign the majority class of the subsets that resulted from the two splits\r\n",
    "to the leaf nodes. You can use the predefined function mostCommon (in\r\n",
    "dtree.py) to obtain the majority class for a dataset."
   ],
   "metadata": {}
  },
  {
   "cell_type": "code",
   "execution_count": 48,
   "source": [
    "def monk1DummyTree():\r\n",
    "    subsets = createSubsets(m.monk1, m.attributes[4])\r\n",
    "    for subset, index in zip(subsets[1:], [3, 5, 0]):\r\n",
    "        print(f\"Attribute {index+1}:\")\r\n",
    "        level2_subset = createSubsets(subset, m.attributes[index])\r\n",
    "        for subsubset in level2_subset:\r\n",
    "            mostCommonChoice = d.mostCommon(subsubset)\r\n",
    "            print(mostCommonChoice)"
   ],
   "outputs": [],
   "metadata": {}
  },
  {
   "cell_type": "code",
   "execution_count": 54,
   "source": [
    "monk1DummyTree()"
   ],
   "outputs": [
    {
     "output_type": "stream",
     "name": "stdout",
     "text": [
      "Attribute 4:\n",
      "False\n",
      "False\n",
      "False\n",
      "Attribute 6:\n",
      "False\n",
      "False\n",
      "Attribute 1:\n",
      "False\n",
      "False\n",
      "True\n"
     ]
    }
   ],
   "metadata": {}
  },
  {
   "cell_type": "markdown",
   "source": [
    "![Our tree](tree-draw.jpg)"
   ],
   "metadata": {}
  },
  {
   "cell_type": "markdown",
   "source": [
    ">Now compare your results with that of a predefined routine for ID3. Use\r\n",
    "the function buildTree(data, m.attributes) to build the decision tree.\r\n",
    "If you pass a third, optional, parameter to buildTree, you can limit the\r\n",
    "depth of the generated tree."
   ],
   "metadata": {}
  },
  {
   "cell_type": "code",
   "execution_count": 53,
   "source": [
    "tree = d.buildTree(m.monk1, m.attributes, 2)\r\n",
    "#dt.drawTree(tree)"
   ],
   "outputs": [],
   "metadata": {}
  },
  {
   "cell_type": "markdown",
   "source": [
    "![The resulting decision tree](tree_test.PNG)"
   ],
   "metadata": {}
  },
  {
   "cell_type": "markdown",
   "source": [
    "## Assignment 5\r\n",
    ">Build the full decision trees for all three Monk\r\n",
    "datasets using buildTree. Then, use the function check to measure the performance of the decision tree on both the training and\r\n",
    "test datasets.\r\n",
    "For example to built a tree for monk1 and compute the performance\r\n",
    "on the test data you could use\r\n",
    "import monkdata as m\r\n",
    "import dtree as d\r\n",
    "t=d.buildTree(m.monk1, m.attributes);\r\n",
    "print(d.check(t, m.monk1test))\r\n",
    "Compute the train and test set errors for the three Monk datasets\r\n",
    "for the full trees. Were your assumptions about the datasets correct?\r\n",
    "Explain the results you get for the training and test datasets."
   ],
   "metadata": {}
  },
  {
   "cell_type": "code",
   "execution_count": 16,
   "source": [
    "tree1 = d.buildTree(m.monk1, m.attributes)\r\n",
    "tree2 = d.buildTree(m.monk2, m.attributes)\r\n",
    "tree3 = d.buildTree(m.monk3, m.attributes)\r\n",
    "'''\r\n",
    "dt.drawTree(tree1)\r\n",
    "dt.drawTree(tree2)\r\n",
    "dt.drawTree(tree3)\r\n",
    "'''"
   ],
   "outputs": [
    {
     "output_type": "execute_result",
     "data": {
      "text/plain": [
       "'\\ndt.drawTree(tree1)\\ndt.drawTree(tree2)\\ndt.drawTree(tree3)\\n'"
      ]
     },
     "metadata": {},
     "execution_count": 16
    }
   ],
   "metadata": {}
  },
  {
   "cell_type": "markdown",
   "source": [
    "![The resulting decision tree](tree-monk1.PNG)\r\n",
    "![The resulting decision tree](tree-monk2.PNG)\r\n",
    "![The resulting decision tree](tree-monk3.PNG)"
   ],
   "metadata": {}
  },
  {
   "cell_type": "code",
   "execution_count": 17,
   "source": [
    "print(f\"MONK-1 tree\\t\\tTrain error: {1-d.check(tree1, m.monk1)}\\t\\tTest error: {1-d.check(tree1, m.monk1test)}\")\r\n",
    "print(f\"MONK-2 tree\\t\\tTrain error: {1-d.check(tree2, m.monk2)}\\t\\tTest error: {1-d.check(tree2, m.monk2test)}\")\r\n",
    "print(f\"MONK-3 tree\\t\\tTrain error: {1-d.check(tree3, m.monk3)}\\t\\tTest error: {1-d.check(tree3, m.monk3test)}\")"
   ],
   "outputs": [
    {
     "output_type": "stream",
     "name": "stdout",
     "text": [
      "MONK-1 tree\t\tTrain error: 0.0\t\tTest error: 0.17129629629629628\n",
      "MONK-2 tree\t\tTrain error: 0.0\t\tTest error: 0.30787037037037035\n",
      "MONK-3 tree\t\tTrain error: 0.0\t\tTest error: 0.05555555555555558\n"
     ]
    }
   ],
   "metadata": {}
  },
  {
   "cell_type": "markdown",
   "source": [
    "Based on the provided training data, the decision trees have been generated properly (training error = 0 indicates that). Based on the test set errors, it looks like MONK-2 is the dataset where our decision tree approach struggles the most:\r\n",
    "- On MONK-1, there is ~17% error rate. With this dataset, attribute 5 produced a significant information gain (~28%) at the beginning. Based on this, this dataset looked like to be relatively efficiently solvable with our approach, which has been confirmed.\r\n",
    "- On MONK-2, the error rate is more than 30%. This is however not a surprise, as the information gain looked like to be marginal for each attribute (maximum ~1.7%). The reason is that the relation 'exactly two' is somewhat difficult to express with predicate calculus, so it is also difficult to model. To model it properly, 432 distinct records are needed for each attribute dual combinations (because here, all needs to be properly modelled). But in this training set, there are only 169 records. \r\n",
    "- On MONK-3, the error rate is 5.5%, which is the best out of the three. It is worth mentioning that MONK-3's training set has an additional 5% noise. Without this, the tree would perform even better. The size of the tree suggests that the information gain was significant when slicing the data. This was somehow expected, as both A5 and A2 indicated significant information gains (~25% and ~29%) earlier, so the good performance on this dataset is not a surprise."
   ],
   "metadata": {}
  },
  {
   "cell_type": "markdown",
   "source": [
    "# 6 Pruning"
   ],
   "metadata": {}
  },
  {
   "cell_type": "code",
   "execution_count": 60,
   "source": [
    "import random\r\n",
    "\r\n",
    "def partition(data, fraction):\r\n",
    "    ldata = list(data)\r\n",
    "    random.shuffle(ldata)\r\n",
    "    breakPoint = int(len(ldata) * fraction)\r\n",
    "    return ldata[:breakPoint], ldata[breakPoint:]\r\n",
    "    \r\n",
    "monk1train, monk1val = partition(m.monk1, 0.6)"
   ],
   "outputs": [],
   "metadata": {}
  },
  {
   "cell_type": "markdown",
   "source": [
    ">Write code which performs the complete pruning by repeatedly calling\r\n",
    "allPruned and picking the tree which gives the best classification performance on the validation dataset. You should stop pruning when all the\r\n",
    "pruned trees perform worse than the current candidate."
   ],
   "metadata": {}
  },
  {
   "cell_type": "code",
   "execution_count": 70,
   "source": [
    "def pruneTree(train, test, fraction):\r\n",
    "    accuracies = {}\r\n",
    "\r\n",
    "    train, val = partition(train, fraction)\r\n",
    "    best_acc = 0\r\n",
    "    prune_level = 0\r\n",
    "    level_best_acc = 0\r\n",
    "\r\n",
    "    # original tree\r\n",
    "    best_tree = d.buildTree(train, m.attributes)\r\n",
    "    level_best_acc = d.check(best_tree, val)\r\n",
    "    best_acc = level_best_acc\r\n",
    "    current_key = f\"l{prune_level}_t0\"\r\n",
    "    accuracies[current_key] = best_acc\r\n",
    "\r\n",
    "    # while the last level provided the best accuracy so far\r\n",
    "    while level_best_acc == best_acc:\r\n",
    "        level_best_acc = 0\r\n",
    "        prune_level += 1\r\n",
    "        pruned_trees = d.allPruned(best_tree)\r\n",
    "\r\n",
    "        for tree_idx in range(0, len(pruned_trees)):\r\n",
    "            current_tree = pruned_trees[tree_idx]\r\n",
    "            current_acc = d.check(current_tree, val)\r\n",
    "            current_key = f\"l{prune_level}_t{tree_idx}\"\r\n",
    "\r\n",
    "            accuracies[current_key] = current_acc\r\n",
    "\r\n",
    "            if(current_acc >= level_best_acc):\r\n",
    "                level_best_acc = current_acc\r\n",
    "                if(current_acc >= best_acc):\r\n",
    "                    best_acc = current_acc\r\n",
    "                    best_tree = current_tree\r\n",
    "                    #print(f\"new best tree: {best_acc}, {best_tree}\")\r\n",
    "\r\n",
    "    return d.check(best_tree, test), max(accuracies.values()), max(accuracies, key=accuracies.get), accuracies"
   ],
   "outputs": [],
   "metadata": {}
  },
  {
   "cell_type": "code",
   "execution_count": 71,
   "source": [
    "best_acc, best_acc_val, best_id, accs = pruneTree(m.monk1, m.monk1test, 0.6)\r\n",
    "print(best_acc)\r\n",
    "print(best_acc_val)\r\n",
    "print(best_id)\r\n",
    "print(accs)"
   ],
   "outputs": [
    {
     "output_type": "stream",
     "name": "stdout",
     "text": [
      "0.8425925925925926\n",
      "0.92\n",
      "l0_t0\n",
      "{'l0_t0': 0.92, 'l1_t0': 0.5, 'l1_t1': 0.88, 'l1_t2': 0.9, 'l1_t3': 0.92, 'l1_t4': 0.9, 'l1_t5': 0.92, 'l1_t6': 0.92, 'l1_t7': 0.9, 'l1_t8': 0.9, 'l1_t9': 0.92, 'l1_t10': 0.9, 'l1_t11': 0.92, 'l1_t12': 0.92, 'l1_t13': 0.86, 'l1_t14': 0.86, 'l1_t15': 0.86, 'l1_t16': 0.84, 'l1_t17': 0.92, 'l1_t18': 0.9, 'l1_t19': 0.86, 'l2_t0': 0.5, 'l2_t1': 0.88, 'l2_t2': 0.9, 'l2_t3': 0.92, 'l2_t4': 0.9, 'l2_t5': 0.92, 'l2_t6': 0.92, 'l2_t7': 0.9, 'l2_t8': 0.9, 'l2_t9': 0.92, 'l2_t10': 0.9, 'l2_t11': 0.92, 'l2_t12': 0.92, 'l2_t13': 0.86, 'l2_t14': 0.86, 'l2_t15': 0.86, 'l2_t16': 0.84, 'l2_t17': 0.9, 'l2_t18': 0.86, 'l3_t0': 0.5, 'l3_t1': 0.88, 'l3_t2': 0.9, 'l3_t3': 0.92, 'l3_t4': 0.9, 'l3_t5': 0.92, 'l3_t6': 0.92, 'l3_t7': 0.9, 'l3_t8': 0.9, 'l3_t9': 0.92, 'l3_t10': 0.9, 'l3_t11': 0.92, 'l3_t12': 0.86, 'l3_t13': 0.86, 'l3_t14': 0.86, 'l3_t15': 0.84, 'l3_t16': 0.9, 'l3_t17': 0.86, 'l4_t0': 0.5, 'l4_t1': 0.88, 'l4_t2': 0.9, 'l4_t3': 0.92, 'l4_t4': 0.9, 'l4_t5': 0.92, 'l4_t6': 0.92, 'l4_t7': 0.9, 'l4_t8': 0.9, 'l4_t9': 0.92, 'l4_t10': 0.9, 'l4_t11': 0.86, 'l4_t12': 0.86, 'l4_t13': 0.86, 'l4_t14': 0.84, 'l4_t15': 0.9, 'l4_t16': 0.86, 'l5_t0': 0.5, 'l5_t1': 0.88, 'l5_t2': 0.9, 'l5_t3': 0.92, 'l5_t4': 0.9, 'l5_t5': 0.92, 'l5_t6': 0.92, 'l5_t7': 0.9, 'l5_t8': 0.9, 'l5_t9': 0.9, 'l5_t10': 0.86, 'l5_t11': 0.86, 'l5_t12': 0.86, 'l5_t13': 0.84, 'l5_t14': 0.9, 'l5_t15': 0.86, 'l6_t0': 0.5, 'l6_t1': 0.88, 'l6_t2': 0.9, 'l6_t3': 0.92, 'l6_t4': 0.9, 'l6_t5': 0.92, 'l6_t6': 0.9, 'l6_t7': 0.9, 'l6_t8': 0.9, 'l6_t9': 0.86, 'l6_t10': 0.86, 'l6_t11': 0.86, 'l6_t12': 0.84, 'l6_t13': 0.9, 'l6_t14': 0.86, 'l7_t0': 0.5, 'l7_t1': 0.88, 'l7_t2': 0.9, 'l7_t3': 0.92, 'l7_t4': 0.9, 'l7_t5': 0.9, 'l7_t6': 0.9, 'l7_t7': 0.9, 'l7_t8': 0.86, 'l7_t9': 0.86, 'l7_t10': 0.86, 'l7_t11': 0.84, 'l7_t12': 0.9, 'l7_t13': 0.86, 'l8_t0': 0.5, 'l8_t1': 0.88, 'l8_t2': 0.9, 'l8_t3': 0.9, 'l8_t4': 0.9, 'l8_t5': 0.9, 'l8_t6': 0.9, 'l8_t7': 0.86, 'l8_t8': 0.86, 'l8_t9': 0.86, 'l8_t10': 0.84, 'l8_t11': 0.9, 'l8_t12': 0.86}\n"
     ]
    }
   ],
   "metadata": {}
  },
  {
   "cell_type": "markdown",
   "source": [
    "## Assignment 6\r\n",
    ">Explain pruning from a bias variance trade-off perspective."
   ],
   "metadata": {}
  },
  {
   "cell_type": "markdown",
   "source": [
    "Pruning reduces the model complexity, since the size of the decision tree is reduced. Since decision trees often has a high variance and low bias, due to the overfitting nature of the model, the variance will thus be reduced by pruning. When variance is reduced, bias is increased. This also makes the model more general and usable.\r\n",
    "\r\n",
    "It is notable that for two equally performing trees, the smaller one should be choosen in order to minimize the risk of overfitting caused by variance."
   ],
   "metadata": {}
  },
  {
   "cell_type": "markdown",
   "source": [
    "## Assignment 7\r\n",
    ">Evaluate the effect pruning has on the test error for\r\n",
    "the monk1 and monk3 datasets, in particular determine the optimal\r\n",
    "partition into training and pruning by optimizing the parameter\r\n",
    "fraction. Plot the classification error on the test sets as a function\r\n",
    "of the parameter fraction ∈ {0.3, 0.4, 0.5, 0.6, 0.7, 0.8}.\r\n",
    "\r\n",
    ">Note that the split of the data is random. We therefore need to\r\n",
    "compute the statistics over several runs of the split to be able to draw\r\n",
    "any conclusions. Reasonable statistics includes mean and a measure\r\n",
    "of the spread. Do remember to print axes labels, legends and data\r\n",
    "points as you will not pass without them."
   ],
   "metadata": {}
  },
  {
   "cell_type": "code",
   "execution_count": 73,
   "source": [
    "def plotMeanVariance(names, means, variances):\r\n",
    "\r\n",
    "    mean_xs = []\r\n",
    "    mean_ys = []\r\n",
    "    for mean in means:\r\n",
    "        mean_x, mean_y = zip(*sorted(mean.items()))\r\n",
    "        mean_xs.append(mean_x)\r\n",
    "        mean_ys.append(mean_y)\r\n",
    "\r\n",
    "    variance_xs = []\r\n",
    "    variance_ys = []\r\n",
    "    for variance in variances:\r\n",
    "        variance_x, variance_y = zip(*sorted(variance.items()))\r\n",
    "        variance_xs.append(variance_x)\r\n",
    "        variance_ys.append(variance_y)\r\n",
    "\r\n",
    "    plt.figure(figsize=(20,5))\r\n",
    "    # row, column, plot\r\n",
    "    plt.subplot(1, 2, 1)\r\n",
    "    for i in range (len(mean_ys)):\r\n",
    "        plt.plot(mean_xs[i], mean_ys[i], marker='x')\r\n",
    "    plt.title(f\"Mean error vs fraction\")\r\n",
    "    plt.xlabel(\"fraction\")\r\n",
    "    plt.ylabel(\"mean error\")\r\n",
    "    plt.legend(names)\r\n",
    "    plt.subplot(1, 2, 2)\r\n",
    "    for i in range (len(variance_ys)):\r\n",
    "        plt.plot(variance_xs[i], variance_ys[i], marker='o')\r\n",
    "    plt.title(f\"Variance vs fraction\")\r\n",
    "    plt.xlabel(\"fraction\")\r\n",
    "    plt.ylabel(\"variance\")\r\n",
    "    plt.legend(names)\r\n",
    "    plt.show()"
   ],
   "outputs": [],
   "metadata": {}
  },
  {
   "cell_type": "code",
   "execution_count": 74,
   "source": [
    "def fractionTest(train, test, num_iters):\r\n",
    "    mean_errors = {}\r\n",
    "    variance = {}\r\n",
    "\r\n",
    "    for i in np.arange(0.3, 0.89, 0.1):\r\n",
    "        fraction = round(i, 1)\r\n",
    "        accs = np.empty(0)\r\n",
    "        for iteration in range(num_iters):\r\n",
    "            best_acc, _, _, _ = pruneTree(train, test, fraction)\r\n",
    "            accs = np.append(accs, best_acc)\r\n",
    "        mean_errors[fraction] = 1-np.mean(accs)\r\n",
    "        variance[fraction] = np.var(accs)\r\n",
    "\r\n",
    "    return mean_errors, variance"
   ],
   "outputs": [],
   "metadata": {}
  },
  {
   "cell_type": "code",
   "execution_count": 75,
   "source": [
    "m1_mean, m1_variance = fractionTest(m.monk1, m.monk1test, 1000)\r\n",
    "m3_mean, m3_variance = fractionTest(m.monk3, m.monk3test, 1000)\r\n",
    "\r\n",
    "plotMeanVariance([\"MONK-1\", \"MONK-3\"], [m1_mean, m3_mean], [m1_variance, m3_variance])"
   ],
   "outputs": [
    {
     "output_type": "display_data",
     "data": {
      "image/png": "[encoded data removed]",
      "text/plain": [
       "<Figure size 1440x360 with 2 Axes>"
      ]
     },
     "metadata": {
      "needs_background": "light"
     }
    }
   ],
   "metadata": {}
  }
 ],
 "metadata": {
  "orig_nbformat": 4,
  "language_info": {
   "name": "python",
   "version": "3.9.7",
   "mimetype": "text/x-python",
   "codemirror_mode": {
    "name": "ipython",
    "version": 3
   },
   "pygments_lexer": "ipython3",
   "nbconvert_exporter": "python",
   "file_extension": ".py"
  },
  "kernelspec": {
   "name": "python3",
   "display_name": "Python 3.9.7 64-bit ('machine_learning': venv)"
  },
  "interpreter": {
   "hash": "c36c7c1540239f6619fab8778f57e0be7dc7a3058a7d24ba408d8bcbae8f8d2d"
  }
 },
 "nbformat": 4,
 "nbformat_minor": 2
}