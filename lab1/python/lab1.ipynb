{
  "cells": [
    {
      "cell_type": "code",
      "execution_count": 46,
      "source": [
        "import monkdata as m\r\n",
        "import dtree as d\r\n",
        "import drawtree_qt5 as dt\r\n",
        "import numpy as np\r\n",
        "\r\n",
        "%matplotlib inline\r\n",
        "import matplotlib.pyplot as plt"
      ],
      "outputs": [],
      "metadata": {}
    },
    {
      "cell_type": "markdown",
      "source": [
        "## Assignment 0\n",
        "- independent variables. In MONK-3 variables are basically independent of each other. MONK-1 a1=a2 creates a dependency. MONK-2 all of them are dependent\n",
        "- meaningful number of attributes:\n",
        "    - MONK-1: 3\n",
        "    - MONK-2: 6\n",
        "    - MONK-3: 3\n",
        "- values that control the whole branch, like a5 = 1 (in MONK-1) or a5 = 4 (in MONK-3). The value of this attribute is enough to compute the result of that branch\n",
        "- MONK-1 and MONK-3 are relatively easy to express with predicate calculus, but MONK-2 is not. This means that it is hard to model with decision trees because it is hard to express and thus we need lots of data to model it "
      ],
      "metadata": {}
    },
    {
      "cell_type": "markdown",
      "source": [
        "## Assignment 1"
      ],
      "metadata": {}
    },
    {
      "cell_type": "code",
      "execution_count": 47,
      "source": [
        "root_entropies = [d.entropy(m.monk1), d.entropy(m.monk2), d.entropy(m.monk3)]\r\n",
        "\r\n",
        "for i in range(len(root_entropies)):\r\n",
        "    print(f\"MONK-{i+1} Entropy: {root_entropies[i]}\")"
      ],
      "outputs": [
        {
          "output_type": "stream",
          "name": "stdout",
          "text": [
            "MONK-1 Entropy: 1.0\n",
            "MONK-2 Entropy: 0.957117428264771\n",
            "MONK-3 Entropy: 0.9998061328047111\n"
          ]
        }
      ],
      "metadata": {}
    },
    {
      "cell_type": "markdown",
      "source": [
        "## Assignment 2\r\n",
        "Entropy measures the level of uncertainty of something. So, in a uniform distribution, the entropy will always be maximum because all events have equal probability of happening, whereas, in non-uniform distributions, some events have more probability of happening, which is saying that the level of uncertainty is lower. For example. if you flip a coin, both outcomes have the same probability, which is 0.5. So, the entropy will be\r\n",
        "\r\n",
        "    -0.5\\*log2(0.5) -0.5\\*log2(0.5) = 0.5 + 0.5 = 1\r\n",
        "\r\n",
        "On the other hand, if you have a bag with 3 balls inside, where one of them is red and the other two are blue, then it's expectable that the probability of randomly taking out a blue ball it's higher (actually 2/3). Therefore, the level of uncertainty is lower and consequently the entropy is also lower. Here is the maths to show it:\r\n",
        "\r\n",
        "    -0.33\\*log2(0.33) -0.66\\*log2(0.66) = 0.5278 + 0.3956 = 0.9234"
      ],
      "metadata": {}
    },
    {
      "cell_type": "markdown",
      "source": [
        "## Assignment 3\n",
        "Average gain of each attribute in each of the datasets"
      ],
      "metadata": {}
    },
    {
      "cell_type": "code",
      "execution_count": 48,
      "source": [
        "def calculate_information_gain(datasets):\r\n",
        "    final_gains = []\r\n",
        "    for dataset in datasets:\r\n",
        "        tmp_gains = []\r\n",
        "        for att in m.attributes:\r\n",
        "            tmp_gains.append(d.averageGain(dataset, att))\r\n",
        "        final_gains.append(tmp_gains)\r\n",
        "    return final_gains\r\n",
        "\r\n",
        "gains = calculate_information_gain([m.monk1, m.monk2, m.monk3])\r\n",
        "\r\n",
        "i = 1\r\n",
        "max_gains = []\r\n",
        "\r\n",
        "for monk in gains:\r\n",
        "    print(f\"MONK-{i}\")\r\n",
        "    i += 1\r\n",
        "    j = 1\r\n",
        "    for att in monk:\r\n",
        "        print(f\"\\tA{j}: {att}\")\r\n",
        "        j += 1\r\n",
        "    max_gains.append(max(monk))\r\n",
        "print(f\"Max gains: {max_gains}\")"
      ],
      "outputs": [
        {
          "output_type": "stream",
          "name": "stdout",
          "text": [
            "MONK-1\n",
            "\tA1: 0.07527255560831925\n",
            "\tA2: 0.005838429962909286\n",
            "\tA3: 0.00470756661729721\n",
            "\tA4: 0.02631169650768228\n",
            "\tA5: 0.28703074971578435\n",
            "\tA6: 0.0007578557158638421\n",
            "MONK-2\n",
            "\tA1: 0.0037561773775118823\n",
            "\tA2: 0.0024584986660830532\n",
            "\tA3: 0.0010561477158920196\n",
            "\tA4: 0.015664247292643818\n",
            "\tA5: 0.01727717693791797\n",
            "\tA6: 0.006247622236881467\n",
            "MONK-3\n",
            "\tA1: 0.007120868396071844\n",
            "\tA2: 0.29373617350838865\n",
            "\tA3: 0.0008311140445336207\n",
            "\tA4: 0.002891817288654397\n",
            "\tA5: 0.25591172461972755\n",
            "\tA6: 0.007077026074097326\n",
            "Max gains: [0.28703074971578435, 0.01727717693791797, 0.29373617350838865]\n"
          ]
        }
      ],
      "metadata": {}
    },
    {
      "cell_type": "markdown",
      "source": [
        "### Conclusions\n",
        "- MONK-1: use A5\n",
        "- MONK-2: use A5\n",
        "- MONK-3: use A2\n"
      ],
      "metadata": {}
    },
    {
      "cell_type": "markdown",
      "source": [
        "## Assignment 4\n",
        "What does the entropy of the subsets look like when the information gain is maximized?"
      ],
      "metadata": {}
    },
    {
      "cell_type": "code",
      "execution_count": 49,
      "source": [
        "i = 1\r\n",
        "for entropy, gain in zip(root_entropies, max_gains):\r\n",
        "    print(f\"MONK-{i}: {entropy-gain}\")\r\n",
        "    i += 1\r\n"
      ],
      "outputs": [
        {
          "output_type": "stream",
          "name": "stdout",
          "text": [
            "MONK-1: 0.7129692502842156\n",
            "MONK-2: 0.939840251326853\n",
            "MONK-3: 0.7060699592963224\n"
          ]
        }
      ],
      "metadata": {}
    },
    {
      "cell_type": "markdown",
      "source": [
        "Entropy is the level of uncertainty. If the attribute which has the most information gain is chosen for splitting, the uncertainty of the data is decreased in the most optimal way. In practical words, that attribute contributes the most in decision making.\n",
        "\n",
        "The information gain as a heuristic can help finding attributes which are more important than others. The equation provides a measurable value for that. This is the value the entropy can be decreased with, thus that should be maximized. After finding the most optimal candidate, a decision tree can split the data based on that attribute. This maximizes the difference of the following branches (as the information gain means exactly this - the data is separated the best possible way). This process can be recursively continued - leading to a decision tree which separates the data the best possible way at all levels starting from its root.\n",
        "\n",
        "This process leads to an algorithm with the highest possible information gain in every level, minimizing the size of the decision tree.\n",
        "\n",
        "But keep in mind that this is a local choice, which means that even if it is the best option locally, doesn't mean that it's the perfect option globally (it's a greedy algorithm)"
      ],
      "metadata": {}
    },
    {
      "cell_type": "markdown",
      "source": [
        "## Assignment 5\r\n",
        "Build the full decision trees and use the `check()` function to measure the performance\r\n",
        "\r\n",
        "Split the monk1 data into subsets according to the selected attribute using\r\n",
        "the function select (again, de\fned in dtree.py) and compute the information gains for the nodes on the next level of the tree. Which attributes\r\n",
        "should be tested for these nodes?"
      ],
      "metadata": {}
    },
    {
      "cell_type": "code",
      "execution_count": 50,
      "source": [
        "# split based on the distinct values of A5 (indices from 0..5 -> A5=4)\r\n",
        "def create_subsets(dataset, split_attr):\r\n",
        "    subsets = []\r\n",
        "    distinct_values = split_attr.values\r\n",
        "    for value in distinct_values:\r\n",
        "        subsets.append(d.select(dataset, split_attr, value))\r\n",
        "    return subsets\r\n",
        "\r\n",
        "\r\n",
        "split_attr = m.attributes[4]\r\n",
        "\r\n",
        "monk1_subsets = create_subsets(m.monk1, split_attr)\r\n",
        "\r\n",
        "cntr_subset = 1\r\n",
        "for subset in monk1_subsets:\r\n",
        "    print(f\"Subset {cntr_subset}:\")\r\n",
        "    attr_cntr = 1\r\n",
        "    for attribute in m.attributes:\r\n",
        "        avg_gain = d.averageGain(subset, attribute)\r\n",
        "        print(f\"\\tA{attr_cntr} gain: {avg_gain}\")\r\n",
        "        attr_cntr += 1\r\n",
        "    cntr_subset += 1"
      ],
      "outputs": [
        {
          "output_type": "stream",
          "name": "stdout",
          "text": [
            "Subset 1:\n",
            "\tA1 gain: 0.0\n",
            "\tA2 gain: 0.0\n",
            "\tA3 gain: 0.0\n",
            "\tA4 gain: 0.0\n",
            "\tA5 gain: 0.0\n",
            "\tA6 gain: 0.0\n",
            "Subset 2:\n",
            "\tA1 gain: 0.040216841609413634\n",
            "\tA2 gain: 0.015063475072186083\n",
            "\tA3 gain: 0.03727262736015946\n",
            "\tA4 gain: 0.04889220262952931\n",
            "\tA5 gain: 0.0\n",
            "\tA6 gain: 0.025807284723902146\n",
            "Subset 3:\n",
            "\tA1 gain: 0.03305510013455182\n",
            "\tA2 gain: 0.002197183539100922\n",
            "\tA3 gain: 0.017982293842278896\n",
            "\tA4 gain: 0.01912275517747053\n",
            "\tA5 gain: 0.0\n",
            "\tA6 gain: 0.04510853782483648\n",
            "Subset 4:\n",
            "\tA1 gain: 0.20629074641530198\n",
            "\tA2 gain: 0.033898395077640586\n",
            "\tA3 gain: 0.025906145434984817\n",
            "\tA4 gain: 0.07593290844153944\n",
            "\tA5 gain: 0.0\n",
            "\tA6 gain: 0.0033239629631565126\n"
          ]
        }
      ],
      "metadata": {}
    },
    {
      "cell_type": "markdown",
      "source": [
        "The following attributes should be tested on the next level:\n",
        "- Subset 1: nothing (as this subset already contains the same Y labels; in this subset of the problem, no matter the value of the attributes, the outcome is always TRUE)\n",
        "- Subset 2: A4\n",
        "- Subset 3: A6\n",
        "- Subset 4: A1\n"
      ],
      "metadata": {}
    },
    {
      "cell_type": "markdown",
      "source": [
        "For the monk1 data draw the decision tree up to the first two levels and\n",
        "assign the majority class of the subsets that resulted from the two splits\n",
        "to the leaf nodes. You can use the predefined function mostCommon (in\n",
        "dtree.py) to obtain the majority class for a dataset."
      ],
      "metadata": {}
    },
    {
      "cell_type": "code",
      "execution_count": 51,
      "source": [
        "subset_a4 = create_subsets(monk1_subsets[1], m.attributes[3])\r\n",
        "print(\"A4 result\")\r\n",
        "for subset in subset_a4:\r\n",
        "    print(d.mostCommon(subset))\r\n",
        "subset_a6 = create_subsets(monk1_subsets[2], m.attributes[5])\r\n",
        "print(\"A6 result\")\r\n",
        "for subset in subset_a6:\r\n",
        "    print(d.mostCommon(subset))\r\n",
        "subset_a1 = create_subsets(monk1_subsets[3], m.attributes[0])\r\n",
        "print(\"A1 result\")\r\n",
        "for subset in subset_a1:\r\n",
        "    print(d.mostCommon(subset))"
      ],
      "outputs": [
        {
          "output_type": "stream",
          "name": "stdout",
          "text": [
            "A4 result\n",
            "False\n",
            "False\n",
            "False\n",
            "A6 result\n",
            "False\n",
            "False\n",
            "A1 result\n",
            "False\n",
            "False\n",
            "True\n"
          ]
        }
      ],
      "metadata": {}
    },
    {
      "cell_type": "markdown",
      "source": [
        "### Handmade tree\r\n",
        "![The resulting decision tree](tree-draw.jpg)"
      ],
      "metadata": {}
    },
    {
      "cell_type": "markdown",
      "source": [
        "Now using the predefined routine ID3:"
      ],
      "metadata": {}
    },
    {
      "cell_type": "code",
      "execution_count": 52,
      "source": [
        "tree = d.buildTree(m.monk1, m.attributes, 2)\r\n",
        "# dt.drawTree(tree)"
      ],
      "outputs": [],
      "metadata": {}
    },
    {
      "cell_type": "markdown",
      "source": [
        "![The resulting decision tree](tree_test.png)\r\n"
      ],
      "metadata": {}
    },
    {
      "cell_type": "markdown",
      "source": [
        "Build the full decision trees for all three Monk\n",
        "datasets using buildTree. Then, use the function check to measure the performance of the decision tree on both the training and\n",
        "test datasets.\n",
        "For example to built a tree for monk1 and compute the performance\n",
        "on the test data you could use"
      ],
      "metadata": {}
    },
    {
      "cell_type": "code",
      "execution_count": 53,
      "source": [
        "tree1 = d.buildTree(m.monk1, m.attributes)\r\n",
        "tree2 = d.buildTree(m.monk2, m.attributes)\r\n",
        "tree3 = d.buildTree(m.monk3, m.attributes)\r\n",
        "'''\r\n",
        "dt.drawTree(tree1)\r\n",
        "dt.drawTree(tree2)\r\n",
        "dt.drawTree(tree3)\r\n",
        "'''"
      ],
      "outputs": [
        {
          "output_type": "execute_result",
          "data": {
            "text/plain": [
              "'\\ndt.drawTree(tree1)\\ndt.drawTree(tree2)\\ndt.drawTree(tree3)\\n'"
            ]
          },
          "metadata": {},
          "execution_count": 53
        }
      ],
      "metadata": {}
    },
    {
      "cell_type": "markdown",
      "source": [
        "### Tree 1\r\n",
        "![The resulting decision tree](tree-monk1.png)\r\n"
      ],
      "metadata": {}
    },
    {
      "cell_type": "markdown",
      "source": [
        "### Tree 2\r\n",
        "![The resulting decision tree](tree-monk2.png)"
      ],
      "metadata": {}
    },
    {
      "cell_type": "markdown",
      "source": [
        "### Tree 3\r\n",
        "![The resulting decision tree](tree-monk3.png)"
      ],
      "metadata": {}
    },
    {
      "cell_type": "markdown",
      "source": [
        "### Performance measurements"
      ],
      "metadata": {}
    },
    {
      "cell_type": "code",
      "execution_count": 54,
      "source": [
        "print(f\"Tree1 traning set\\t{1-d.check(tree1, m.monk1)}\")\r\n",
        "print(f\"Tree1 test set\\t\\t{1-d.check(tree1, m.monk1test)}\")\r\n",
        "print(f\"Tree2 traning set\\t{1-d.check(tree2, m.monk2)}\")\r\n",
        "print(f\"Tree2 test set\\t\\t{1-d.check(tree2, m.monk2test)}\")\r\n",
        "print(f\"Tree3 traning set\\t{1-d.check(tree3, m.monk3)}\")\r\n",
        "print(f\"Tree3 test set\\t\\t{1-d.check(tree3, m.monk3test)}\")"
      ],
      "outputs": [
        {
          "output_type": "stream",
          "name": "stdout",
          "text": [
            "Tree1 traning set\t0.0\n",
            "Tree1 test set\t\t0.17129629629629628\n",
            "Tree2 traning set\t0.0\n",
            "Tree2 test set\t\t0.30787037037037035\n",
            "Tree3 traning set\t0.0\n",
            "Tree3 test set\t\t0.05555555555555558\n"
          ]
        }
      ],
      "metadata": {}
    },
    {
      "cell_type": "markdown",
      "source": [
        "Based on the provided training data, the decision trees have been generated properly (training error = 0 indicates that). Based on the test set errors, it looks like MONK-2 is the dataset where our decision tree approach struggles the most:\n",
        "- On MONK-1, there is ~17% error rate. With this dataset, attribute 5 produced a significant information gain (~28%) at the beginning. Based on this, this dataset looked like to be relatively efficiently solvable with our approach, which has been confirmed.\n",
        "- On MONK-2, the error rate is more than 30%. This is however not a surprise, as the information gain looked like to be marginal for each attribute (maximum ~1.7%). The reason is that the relation 'exactly two' is somewhat difficult to express with predicate calculus, so it is also difficult to model. To model it properly, 432 distinct records are needed for each attribute dual combinations (because here, all needs to be properly modelled). But in this training set, there are only 169 records. \n",
        "- On MONK-3, the error rate is 5.5%, which is the best out of the three. It is worth mentioning that MONK-3's training set has an additional 5% noise. Without this, the tree would perform even better. The size of the tree suggests that the information gain was significant when slicing the data. This was somehow expected, as both A5 and A2 indicated significant information gains (~25% and ~29%) earlier, so the good performance on this dataset is not a surprise."
      ],
      "metadata": {}
    },
    {
      "cell_type": "markdown",
      "source": [
        "## Assignment 6\n",
        "\n",
        "Pruning reduces the model complexity, since the size of the decision tree is reduced. Since decision trees often has a high variance and low bias, due to the overfitting nature of the model, the variance will thus be reduced by pruning. When variance is reduced, bias is increased. This also makes the model more general and usable.\n",
        "\n",
        "It is notable that for 2 equally performing trees that smaller one should be chosen in order to minimize the risk of overfitting caused by variance - comparing 2 trees that perform the same, they probably have a *similar* bias, but the variance will be bigger in the bigger tree "
      ],
      "metadata": {}
    },
    {
      "cell_type": "code",
      "execution_count": 55,
      "source": [
        "import random\r\n",
        "def partition(data, fraction):\r\n",
        "    ldata = list(data)\r\n",
        "    random.shuffle(ldata)\r\n",
        "    breakPoint = int(len(ldata) * fraction)\r\n",
        "    return ldata[:breakPoint], ldata[breakPoint:]\r\n",
        "monk1train, monk1val = partition(m.monk1, 0.6)"
      ],
      "outputs": [],
      "metadata": {}
    },
    {
      "cell_type": "markdown",
      "source": [
        "## Assignment 7\n",
        "Write code which performs the complete pruning by repeatedly calling\n",
        "allPruned and picking the tree which gives the best classification performance on the validation dataset. You should stop pruning when all the\n",
        "pruned trees perform worse than the current candidate."
      ],
      "metadata": {}
    },
    {
      "cell_type": "code",
      "execution_count": 56,
      "source": [
        "def pruneTree(train, test, fraction):\r\n",
        "    accuracies = {}\r\n",
        "\r\n",
        "    train, val = partition(train, fraction)\r\n",
        "    best_acc = 0\r\n",
        "    prune_level = 0\r\n",
        "    level_best_acc = 0\r\n",
        "\r\n",
        "    # original tree\r\n",
        "    best_tree = d.buildTree(train, m.attributes)\r\n",
        "    level_best_acc = d.check(best_tree, val)\r\n",
        "    best_acc = level_best_acc\r\n",
        "    current_key = f\"l{prune_level}_t0\"\r\n",
        "    accuracies[current_key] = best_acc\r\n",
        "\r\n",
        "    # while the last level provided the best accuracy so far\r\n",
        "    while level_best_acc == best_acc:\r\n",
        "        level_best_acc = 0\r\n",
        "        prune_level += 1\r\n",
        "        pruned_trees = d.allPruned(best_tree)\r\n",
        "\r\n",
        "        for tree_idx in range(0, len(pruned_trees)):\r\n",
        "            current_tree = pruned_trees[tree_idx]\r\n",
        "            current_acc = d.check(current_tree, val)\r\n",
        "            current_key = f\"l{prune_level}_t{tree_idx}\"\r\n",
        "\r\n",
        "            accuracies[current_key] = current_acc\r\n",
        "\r\n",
        "            if(current_acc >= level_best_acc):\r\n",
        "                level_best_acc = current_acc\r\n",
        "                if(current_acc >= best_acc):\r\n",
        "                    best_acc = current_acc\r\n",
        "                    best_tree = current_tree\r\n",
        "                    #print(f\"new best tree: {best_acc}, {best_tree}\")\r\n",
        "    final_accuracy = d.check(best_tree, test)\r\n",
        "    return final_accuracy, 1 - final_accuracy, max(accuracies.values()), max(accuracies, key=accuracies.get), accuracies"
      ],
      "outputs": [],
      "metadata": {}
    },
    {
      "cell_type": "code",
      "execution_count": 63,
      "source": [
        "best_test_accuracy, error, best_acc, best_id, accs = pruneTree(m.monk1, m.monk1test, 0.6)\r\n",
        "print(best_test_accuracy)\r\n",
        "print(error)\r\n",
        "print(best_acc)\r\n",
        "print(best_id)\r\n",
        "print(accs)"
      ],
      "outputs": [
        {
          "output_type": "stream",
          "name": "stdout",
          "text": [
            "0.8611111111111112\n",
            "0.13888888888888884\n",
            "0.86\n",
            "l0_t0\n",
            "{'l0_t0': 0.86, 'l1_t0': 0.48, 'l1_t1': 0.74, 'l1_t2': 0.82, 'l1_t3': 0.82, 'l1_t4': 0.82, 'l1_t5': 0.86, 'l1_t6': 0.86, 'l1_t7': 0.84, 'l1_t8': 0.86, 'l1_t9': 0.74, 'l1_t10': 0.86, 'l1_t11': 0.8, 'l1_t12': 0.84, 'l2_t0': 0.48, 'l2_t1': 0.74, 'l2_t2': 0.82, 'l2_t3': 0.82, 'l2_t4': 0.82, 'l2_t5': 0.86, 'l2_t6': 0.86, 'l2_t7': 0.84, 'l2_t8': 0.86, 'l2_t9': 0.74, 'l2_t10': 0.8, 'l2_t11': 0.84, 'l3_t0': 0.48, 'l3_t1': 0.74, 'l3_t2': 0.82, 'l3_t3': 0.82, 'l3_t4': 0.82, 'l3_t5': 0.86, 'l3_t6': 0.86, 'l3_t7': 0.84, 'l3_t8': 0.74, 'l3_t9': 0.8, 'l3_t10': 0.84, 'l4_t0': 0.48, 'l4_t1': 0.74, 'l4_t2': 0.82, 'l4_t3': 0.82, 'l4_t4': 0.82, 'l4_t5': 0.86, 'l4_t6': 0.74, 'l4_t7': 0.8, 'l4_t8': 0.84, 'l5_t0': 0.48, 'l5_t1': 0.74, 'l5_t2': 0.82, 'l5_t3': 0.82, 'l5_t4': 0.82, 'l5_t5': 0.74, 'l5_t6': 0.8, 'l5_t7': 0.84}\n"
          ]
        }
      ],
      "metadata": {}
    },
    {
      "cell_type": "code",
      "execution_count": 58,
      "source": [
        "def fractionTest(train, test, num_iters):\r\n",
        "    mean_errors = {}\r\n",
        "    variance = {}\r\n",
        "\r\n",
        "    for i in np.arange(0.3, 0.89, 0.1):\r\n",
        "        fraction = round(i, 1)\r\n",
        "        accs = np.empty(0)\r\n",
        "        for iteration in range(num_iters):\r\n",
        "            best_acc, _, _, _, _ = pruneTree(train, test, fraction)\r\n",
        "            accs = np.append(accs, best_acc)\r\n",
        "        mean_errors[fraction] = 1-np.mean(accs)\r\n",
        "        variance[fraction] = np.var(accs)\r\n",
        "\r\n",
        "    return mean_errors, variance"
      ],
      "outputs": [],
      "metadata": {}
    },
    {
      "cell_type": "code",
      "execution_count": 59,
      "source": [
        "def plotMeanVariance(names, means, variances):\r\n",
        "\r\n",
        "    mean_xs = []\r\n",
        "    mean_ys = []\r\n",
        "    for mean in means:  # [MONK-1, MONK-3]\r\n",
        "        mean_x, mean_y = zip(*sorted(mean.items()))\r\n",
        "        mean_xs.append(mean_x)\r\n",
        "        mean_ys.append(mean_y)\r\n",
        "\r\n",
        "    variance_xs = []\r\n",
        "    variance_ys = []\r\n",
        "    for variance in variances:\r\n",
        "        variance_x, variance_y = zip(*sorted(variance.items()))\r\n",
        "        variance_xs.append(variance_x)\r\n",
        "        variance_ys.append(variance_y)\r\n",
        "\r\n",
        "    plt.figure(figsize=(20,5))\r\n",
        "    # row, column, plot\r\n",
        "    plt.subplot(1, 2, 1)\r\n",
        "    for i in range (len(mean_ys)):\r\n",
        "        plt.plot(mean_xs[i], mean_ys[i], marker='x')\r\n",
        "    plt.title(f\"Mean error vs fraction\")\r\n",
        "    plt.xlabel(\"fraction\")\r\n",
        "    plt.ylabel(\"mean error\")\r\n",
        "    plt.legend(names)\r\n",
        "    plt.subplot(1, 2, 2)\r\n",
        "    for i in range (len(variance_ys)):\r\n",
        "        plt.plot(variance_xs[i], variance_ys[i], marker='o')\r\n",
        "    plt.title(f\"Variance vs fraction\")\r\n",
        "    plt.xlabel(\"fraction\")\r\n",
        "    plt.ylabel(\"variance\")\r\n",
        "    plt.legend(names)\r\n",
        "    plt.show()"
      ],
      "outputs": [],
      "metadata": {}
    },
    {
      "cell_type": "code",
      "execution_count": 60,
      "source": [
        "m1_mean, m1_variance = fractionTest(m.monk1, m.monk1test, 1000)\r\n",
        "m3_mean, m3_variance = fractionTest(m.monk3, m.monk3test, 1000)\r\n",
        "\r\n",
        "plotMeanVariance([\"MONK-1\", \"MONK-3\"], [m1_mean, m3_mean], [m1_variance, m3_variance])"
      ],
      "outputs": [
        {
          "output_type": "display_data",
          "data": {
            "image/png": "[encoded data removed]",
            "image/svg+xml": "<?xml version=\"1.0\" encoding=\"utf-8\" standalone=\"no\"?>\n<!DOCTYPE svg PUBLIC \"-//W3C//DTD SVG 1.1//EN\"\n  \"http://www.w3.org/Graphics/SVG/1.1/DTD/svg11.dtd\">\n<svg height=\"331.674375pt\" version=\"1.1\" viewBox=\"0 0 1179.70625 331.674375\" width=\"1179.70625pt\" xmlns=\"http://www.w3.org/2000/svg\" xmlns:xlink=\"http://www.w3.org/1999/xlink\">\n <metadata>\n  <rdf:RDF xmlns:cc=\"http://creativecommons.org/ns#\" xmlns:dc=\"http://purl.org/dc/elements/1.1/\" xmlns:rdf=\"http://www.w3.org/1999/02/22-rdf-syntax-ns#\">\n   <cc:Work>\n    <dc:type rdf:resource=\"http://purl.org/dc/dcmitype/StillImage\"/>\n    <dc:date>2021-09-13T21:00:06.280887</dc:date>\n    <dc:format>image/svg+xml</dc:format>\n    <dc:creator>\n     <cc:Agent>\n      <dc:title>Matplotlib v3.4.3, https://matplotlib.org/</dc:title>\n     </cc:Agent>\n    </dc:creator>\n   </cc:Work>\n  </rdf:RDF>\n </metadata>\n <defs>\n  <style type=\"text/css\">*{stroke-linecap:butt;stroke-linejoin:round;}</style>\n </defs>\n <g id=\"figure_1\">\n  <g id=\"patch_1\">\n   <path d=\"M 0 331.674375 \nL 1179.70625 331.674375 \nL 1179.70625 0 \nL 0 0 \nz\n\" style=\"fill:none;\"/>\n  </g>\n  <g id=\"axes_1\">\n   <g id=\"patch_2\">\n    <path d=\"M 56.50625 294.118125 \nL 563.778977 294.118125 \nL 563.778977 22.318125 \nL 56.50625 22.318125 \nz\n\" style=\"fill:#ffffff;\"/>\n   </g>\n   <g id=\"matplotlib.axis_1\">\n    <g id=\"xtick_1\">\n     <g id=\"line2d_1\">\n      <defs>\n       <path d=\"M 0 0 \nL 0 3.5 \n\" id=\"me7681e9857\" style=\"stroke:#000000;stroke-width:0.8;\"/>\n      </defs>\n      <g>\n       <use style=\"stroke:#000000;stroke-width:0.8;\" x=\"79.564101\" xlink:href=\"#me7681e9857\" y=\"294.118125\"/>\n      </g>\n     </g>\n     <g id=\"text_1\">\n      <!-- 0.3 -->\n      <g transform=\"translate(71.612539 308.716563)scale(0.1 -0.1)\">\n       <defs>\n        <path d=\"M 2034 4250 \nQ 1547 4250 1301 3770 \nQ 1056 3291 1056 2328 \nQ 1056 1369 1301 889 \nQ 1547 409 2034 409 \nQ 2525 409 2770 889 \nQ 3016 1369 3016 2328 \nQ 3016 3291 2770 3770 \nQ 2525 4250 2034 4250 \nz\nM 2034 4750 \nQ 2819 4750 3233 4129 \nQ 3647 3509 3647 2328 \nQ 3647 1150 3233 529 \nQ 2819 -91 2034 -91 \nQ 1250 -91 836 529 \nQ 422 1150 422 2328 \nQ 422 3509 836 4129 \nQ 1250 4750 2034 4750 \nz\n\" id=\"DejaVuSans-30\" transform=\"scale(0.015625)\"/>\n        <path d=\"M 684 794 \nL 1344 794 \nL 1344 0 \nL 684 0 \nL 684 794 \nz\n\" id=\"DejaVuSans-2e\" transform=\"scale(0.015625)\"/>\n        <path d=\"M 2597 2516 \nQ 3050 2419 3304 2112 \nQ 3559 1806 3559 1356 \nQ 3559 666 3084 287 \nQ 2609 -91 1734 -91 \nQ 1441 -91 1130 -33 \nQ 819 25 488 141 \nL 488 750 \nQ 750 597 1062 519 \nQ 1375 441 1716 441 \nQ 2309 441 2620 675 \nQ 2931 909 2931 1356 \nQ 2931 1769 2642 2001 \nQ 2353 2234 1838 2234 \nL 1294 2234 \nL 1294 2753 \nL 1863 2753 \nQ 2328 2753 2575 2939 \nQ 2822 3125 2822 3475 \nQ 2822 3834 2567 4026 \nQ 2313 4219 1838 4219 \nQ 1578 4219 1281 4162 \nQ 984 4106 628 3988 \nL 628 4550 \nQ 988 4650 1302 4700 \nQ 1616 4750 1894 4750 \nQ 2613 4750 3031 4423 \nQ 3450 4097 3450 3541 \nQ 3450 3153 3228 2886 \nQ 3006 2619 2597 2516 \nz\n\" id=\"DejaVuSans-33\" transform=\"scale(0.015625)\"/>\n       </defs>\n       <use xlink:href=\"#DejaVuSans-30\"/>\n       <use x=\"63.623047\" xlink:href=\"#DejaVuSans-2e\"/>\n       <use x=\"95.410156\" xlink:href=\"#DejaVuSans-33\"/>\n      </g>\n     </g>\n    </g>\n    <g id=\"xtick_2\">\n     <g id=\"line2d_2\">\n      <g>\n       <use style=\"stroke:#000000;stroke-width:0.8;\" x=\"171.795506\" xlink:href=\"#me7681e9857\" y=\"294.118125\"/>\n      </g>\n     </g>\n     <g id=\"text_2\">\n      <!-- 0.4 -->\n      <g transform=\"translate(163.843944 308.716563)scale(0.1 -0.1)\">\n       <defs>\n        <path d=\"M 2419 4116 \nL 825 1625 \nL 2419 1625 \nL 2419 4116 \nz\nM 2253 4666 \nL 3047 4666 \nL 3047 1625 \nL 3713 1625 \nL 3713 1100 \nL 3047 1100 \nL 3047 0 \nL 2419 0 \nL 2419 1100 \nL 313 1100 \nL 313 1709 \nL 2253 4666 \nz\n\" id=\"DejaVuSans-34\" transform=\"scale(0.015625)\"/>\n       </defs>\n       <use xlink:href=\"#DejaVuSans-30\"/>\n       <use x=\"63.623047\" xlink:href=\"#DejaVuSans-2e\"/>\n       <use x=\"95.410156\" xlink:href=\"#DejaVuSans-34\"/>\n      </g>\n     </g>\n    </g>\n    <g id=\"xtick_3\">\n     <g id=\"line2d_3\">\n      <g>\n       <use style=\"stroke:#000000;stroke-width:0.8;\" x=\"264.026911\" xlink:href=\"#me7681e9857\" y=\"294.118125\"/>\n      </g>\n     </g>\n     <g id=\"text_3\">\n      <!-- 0.5 -->\n      <g transform=\"translate(256.075349 308.716563)scale(0.1 -0.1)\">\n       <defs>\n        <path d=\"M 691 4666 \nL 3169 4666 \nL 3169 4134 \nL 1269 4134 \nL 1269 2991 \nQ 1406 3038 1543 3061 \nQ 1681 3084 1819 3084 \nQ 2600 3084 3056 2656 \nQ 3513 2228 3513 1497 \nQ 3513 744 3044 326 \nQ 2575 -91 1722 -91 \nQ 1428 -91 1123 -41 \nQ 819 9 494 109 \nL 494 744 \nQ 775 591 1075 516 \nQ 1375 441 1709 441 \nQ 2250 441 2565 725 \nQ 2881 1009 2881 1497 \nQ 2881 1984 2565 2268 \nQ 2250 2553 1709 2553 \nQ 1456 2553 1204 2497 \nQ 953 2441 691 2322 \nL 691 4666 \nz\n\" id=\"DejaVuSans-35\" transform=\"scale(0.015625)\"/>\n       </defs>\n       <use xlink:href=\"#DejaVuSans-30\"/>\n       <use x=\"63.623047\" xlink:href=\"#DejaVuSans-2e\"/>\n       <use x=\"95.410156\" xlink:href=\"#DejaVuSans-35\"/>\n      </g>\n     </g>\n    </g>\n    <g id=\"xtick_4\">\n     <g id=\"line2d_4\">\n      <g>\n       <use style=\"stroke:#000000;stroke-width:0.8;\" x=\"356.258316\" xlink:href=\"#me7681e9857\" y=\"294.118125\"/>\n      </g>\n     </g>\n     <g id=\"text_4\">\n      <!-- 0.6 -->\n      <g transform=\"translate(348.306754 308.716563)scale(0.1 -0.1)\">\n       <defs>\n        <path d=\"M 2113 2584 \nQ 1688 2584 1439 2293 \nQ 1191 2003 1191 1497 \nQ 1191 994 1439 701 \nQ 1688 409 2113 409 \nQ 2538 409 2786 701 \nQ 3034 994 3034 1497 \nQ 3034 2003 2786 2293 \nQ 2538 2584 2113 2584 \nz\nM 3366 4563 \nL 3366 3988 \nQ 3128 4100 2886 4159 \nQ 2644 4219 2406 4219 \nQ 1781 4219 1451 3797 \nQ 1122 3375 1075 2522 \nQ 1259 2794 1537 2939 \nQ 1816 3084 2150 3084 \nQ 2853 3084 3261 2657 \nQ 3669 2231 3669 1497 \nQ 3669 778 3244 343 \nQ 2819 -91 2113 -91 \nQ 1303 -91 875 529 \nQ 447 1150 447 2328 \nQ 447 3434 972 4092 \nQ 1497 4750 2381 4750 \nQ 2619 4750 2861 4703 \nQ 3103 4656 3366 4563 \nz\n\" id=\"DejaVuSans-36\" transform=\"scale(0.015625)\"/>\n       </defs>\n       <use xlink:href=\"#DejaVuSans-30\"/>\n       <use x=\"63.623047\" xlink:href=\"#DejaVuSans-2e\"/>\n       <use x=\"95.410156\" xlink:href=\"#DejaVuSans-36\"/>\n      </g>\n     </g>\n    </g>\n    <g id=\"xtick_5\">\n     <g id=\"line2d_5\">\n      <g>\n       <use style=\"stroke:#000000;stroke-width:0.8;\" x=\"448.489721\" xlink:href=\"#me7681e9857\" y=\"294.118125\"/>\n      </g>\n     </g>\n     <g id=\"text_5\">\n      <!-- 0.7 -->\n      <g transform=\"translate(440.538159 308.716563)scale(0.1 -0.1)\">\n       <defs>\n        <path d=\"M 525 4666 \nL 3525 4666 \nL 3525 4397 \nL 1831 0 \nL 1172 0 \nL 2766 4134 \nL 525 4134 \nL 525 4666 \nz\n\" id=\"DejaVuSans-37\" transform=\"scale(0.015625)\"/>\n       </defs>\n       <use xlink:href=\"#DejaVuSans-30\"/>\n       <use x=\"63.623047\" xlink:href=\"#DejaVuSans-2e\"/>\n       <use x=\"95.410156\" xlink:href=\"#DejaVuSans-37\"/>\n      </g>\n     </g>\n    </g>\n    <g id=\"xtick_6\">\n     <g id=\"line2d_6\">\n      <g>\n       <use style=\"stroke:#000000;stroke-width:0.8;\" x=\"540.721126\" xlink:href=\"#me7681e9857\" y=\"294.118125\"/>\n      </g>\n     </g>\n     <g id=\"text_6\">\n      <!-- 0.8 -->\n      <g transform=\"translate(532.769564 308.716563)scale(0.1 -0.1)\">\n       <defs>\n        <path d=\"M 2034 2216 \nQ 1584 2216 1326 1975 \nQ 1069 1734 1069 1313 \nQ 1069 891 1326 650 \nQ 1584 409 2034 409 \nQ 2484 409 2743 651 \nQ 3003 894 3003 1313 \nQ 3003 1734 2745 1975 \nQ 2488 2216 2034 2216 \nz\nM 1403 2484 \nQ 997 2584 770 2862 \nQ 544 3141 544 3541 \nQ 544 4100 942 4425 \nQ 1341 4750 2034 4750 \nQ 2731 4750 3128 4425 \nQ 3525 4100 3525 3541 \nQ 3525 3141 3298 2862 \nQ 3072 2584 2669 2484 \nQ 3125 2378 3379 2068 \nQ 3634 1759 3634 1313 \nQ 3634 634 3220 271 \nQ 2806 -91 2034 -91 \nQ 1263 -91 848 271 \nQ 434 634 434 1313 \nQ 434 1759 690 2068 \nQ 947 2378 1403 2484 \nz\nM 1172 3481 \nQ 1172 3119 1398 2916 \nQ 1625 2713 2034 2713 \nQ 2441 2713 2670 2916 \nQ 2900 3119 2900 3481 \nQ 2900 3844 2670 4047 \nQ 2441 4250 2034 4250 \nQ 1625 4250 1398 4047 \nQ 1172 3844 1172 3481 \nz\n\" id=\"DejaVuSans-38\" transform=\"scale(0.015625)\"/>\n       </defs>\n       <use xlink:href=\"#DejaVuSans-30\"/>\n       <use x=\"63.623047\" xlink:href=\"#DejaVuSans-2e\"/>\n       <use x=\"95.410156\" xlink:href=\"#DejaVuSans-38\"/>\n      </g>\n     </g>\n    </g>\n    <g id=\"text_7\">\n     <!-- fraction -->\n     <g transform=\"translate(290.936364 322.394687)scale(0.1 -0.1)\">\n      <defs>\n       <path d=\"M 2375 4863 \nL 2375 4384 \nL 1825 4384 \nQ 1516 4384 1395 4259 \nQ 1275 4134 1275 3809 \nL 1275 3500 \nL 2222 3500 \nL 2222 3053 \nL 1275 3053 \nL 1275 0 \nL 697 0 \nL 697 3053 \nL 147 3053 \nL 147 3500 \nL 697 3500 \nL 697 3744 \nQ 697 4328 969 4595 \nQ 1241 4863 1831 4863 \nL 2375 4863 \nz\n\" id=\"DejaVuSans-66\" transform=\"scale(0.015625)\"/>\n       <path d=\"M 2631 2963 \nQ 2534 3019 2420 3045 \nQ 2306 3072 2169 3072 \nQ 1681 3072 1420 2755 \nQ 1159 2438 1159 1844 \nL 1159 0 \nL 581 0 \nL 581 3500 \nL 1159 3500 \nL 1159 2956 \nQ 1341 3275 1631 3429 \nQ 1922 3584 2338 3584 \nQ 2397 3584 2469 3576 \nQ 2541 3569 2628 3553 \nL 2631 2963 \nz\n\" id=\"DejaVuSans-72\" transform=\"scale(0.015625)\"/>\n       <path d=\"M 2194 1759 \nQ 1497 1759 1228 1600 \nQ 959 1441 959 1056 \nQ 959 750 1161 570 \nQ 1363 391 1709 391 \nQ 2188 391 2477 730 \nQ 2766 1069 2766 1631 \nL 2766 1759 \nL 2194 1759 \nz\nM 3341 1997 \nL 3341 0 \nL 2766 0 \nL 2766 531 \nQ 2569 213 2275 61 \nQ 1981 -91 1556 -91 \nQ 1019 -91 701 211 \nQ 384 513 384 1019 \nQ 384 1609 779 1909 \nQ 1175 2209 1959 2209 \nL 2766 2209 \nL 2766 2266 \nQ 2766 2663 2505 2880 \nQ 2244 3097 1772 3097 \nQ 1472 3097 1187 3025 \nQ 903 2953 641 2809 \nL 641 3341 \nQ 956 3463 1253 3523 \nQ 1550 3584 1831 3584 \nQ 2591 3584 2966 3190 \nQ 3341 2797 3341 1997 \nz\n\" id=\"DejaVuSans-61\" transform=\"scale(0.015625)\"/>\n       <path d=\"M 3122 3366 \nL 3122 2828 \nQ 2878 2963 2633 3030 \nQ 2388 3097 2138 3097 \nQ 1578 3097 1268 2742 \nQ 959 2388 959 1747 \nQ 959 1106 1268 751 \nQ 1578 397 2138 397 \nQ 2388 397 2633 464 \nQ 2878 531 3122 666 \nL 3122 134 \nQ 2881 22 2623 -34 \nQ 2366 -91 2075 -91 \nQ 1284 -91 818 406 \nQ 353 903 353 1747 \nQ 353 2603 823 3093 \nQ 1294 3584 2113 3584 \nQ 2378 3584 2631 3529 \nQ 2884 3475 3122 3366 \nz\n\" id=\"DejaVuSans-63\" transform=\"scale(0.015625)\"/>\n       <path d=\"M 1172 4494 \nL 1172 3500 \nL 2356 3500 \nL 2356 3053 \nL 1172 3053 \nL 1172 1153 \nQ 1172 725 1289 603 \nQ 1406 481 1766 481 \nL 2356 481 \nL 2356 0 \nL 1766 0 \nQ 1100 0 847 248 \nQ 594 497 594 1153 \nL 594 3053 \nL 172 3053 \nL 172 3500 \nL 594 3500 \nL 594 4494 \nL 1172 4494 \nz\n\" id=\"DejaVuSans-74\" transform=\"scale(0.015625)\"/>\n       <path d=\"M 603 3500 \nL 1178 3500 \nL 1178 0 \nL 603 0 \nL 603 3500 \nz\nM 603 4863 \nL 1178 4863 \nL 1178 4134 \nL 603 4134 \nL 603 4863 \nz\n\" id=\"DejaVuSans-69\" transform=\"scale(0.015625)\"/>\n       <path d=\"M 1959 3097 \nQ 1497 3097 1228 2736 \nQ 959 2375 959 1747 \nQ 959 1119 1226 758 \nQ 1494 397 1959 397 \nQ 2419 397 2687 759 \nQ 2956 1122 2956 1747 \nQ 2956 2369 2687 2733 \nQ 2419 3097 1959 3097 \nz\nM 1959 3584 \nQ 2709 3584 3137 3096 \nQ 3566 2609 3566 1747 \nQ 3566 888 3137 398 \nQ 2709 -91 1959 -91 \nQ 1206 -91 779 398 \nQ 353 888 353 1747 \nQ 353 2609 779 3096 \nQ 1206 3584 1959 3584 \nz\n\" id=\"DejaVuSans-6f\" transform=\"scale(0.015625)\"/>\n       <path d=\"M 3513 2113 \nL 3513 0 \nL 2938 0 \nL 2938 2094 \nQ 2938 2591 2744 2837 \nQ 2550 3084 2163 3084 \nQ 1697 3084 1428 2787 \nQ 1159 2491 1159 1978 \nL 1159 0 \nL 581 0 \nL 581 3500 \nL 1159 3500 \nL 1159 2956 \nQ 1366 3272 1645 3428 \nQ 1925 3584 2291 3584 \nQ 2894 3584 3203 3211 \nQ 3513 2838 3513 2113 \nz\n\" id=\"DejaVuSans-6e\" transform=\"scale(0.015625)\"/>\n      </defs>\n      <use xlink:href=\"#DejaVuSans-66\"/>\n      <use x=\"35.205078\" xlink:href=\"#DejaVuSans-72\"/>\n      <use x=\"76.318359\" xlink:href=\"#DejaVuSans-61\"/>\n      <use x=\"137.597656\" xlink:href=\"#DejaVuSans-63\"/>\n      <use x=\"192.578125\" xlink:href=\"#DejaVuSans-74\"/>\n      <use x=\"231.787109\" xlink:href=\"#DejaVuSans-69\"/>\n      <use x=\"259.570312\" xlink:href=\"#DejaVuSans-6f\"/>\n      <use x=\"320.751953\" xlink:href=\"#DejaVuSans-6e\"/>\n     </g>\n    </g>\n   </g>\n   <g id=\"matplotlib.axis_2\">\n    <g id=\"ytick_1\">\n     <g id=\"line2d_7\">\n      <defs>\n       <path d=\"M 0 0 \nL -3.5 0 \n\" id=\"mfa6528e1f3\" style=\"stroke:#000000;stroke-width:0.8;\"/>\n      </defs>\n      <g>\n       <use style=\"stroke:#000000;stroke-width:0.8;\" x=\"56.50625\" xlink:href=\"#mfa6528e1f3\" y=\"291.976831\"/>\n      </g>\n     </g>\n     <g id=\"text_8\">\n      <!-- 0.025 -->\n      <g transform=\"translate(20.878125 295.776049)scale(0.1 -0.1)\">\n       <defs>\n        <path d=\"M 1228 531 \nL 3431 531 \nL 3431 0 \nL 469 0 \nL 469 531 \nQ 828 903 1448 1529 \nQ 2069 2156 2228 2338 \nQ 2531 2678 2651 2914 \nQ 2772 3150 2772 3378 \nQ 2772 3750 2511 3984 \nQ 2250 4219 1831 4219 \nQ 1534 4219 1204 4116 \nQ 875 4013 500 3803 \nL 500 4441 \nQ 881 4594 1212 4672 \nQ 1544 4750 1819 4750 \nQ 2544 4750 2975 4387 \nQ 3406 4025 3406 3419 \nQ 3406 3131 3298 2873 \nQ 3191 2616 2906 2266 \nQ 2828 2175 2409 1742 \nQ 1991 1309 1228 531 \nz\n\" id=\"DejaVuSans-32\" transform=\"scale(0.015625)\"/>\n       </defs>\n       <use xlink:href=\"#DejaVuSans-30\"/>\n       <use x=\"63.623047\" xlink:href=\"#DejaVuSans-2e\"/>\n       <use x=\"95.410156\" xlink:href=\"#DejaVuSans-30\"/>\n       <use x=\"159.033203\" xlink:href=\"#DejaVuSans-32\"/>\n       <use x=\"222.65625\" xlink:href=\"#DejaVuSans-35\"/>\n      </g>\n     </g>\n    </g>\n    <g id=\"ytick_2\">\n     <g id=\"line2d_8\">\n      <g>\n       <use style=\"stroke:#000000;stroke-width:0.8;\" x=\"56.50625\" xlink:href=\"#mfa6528e1f3\" y=\"261.0969\"/>\n      </g>\n     </g>\n     <g id=\"text_9\">\n      <!-- 0.050 -->\n      <g transform=\"translate(20.878125 264.896119)scale(0.1 -0.1)\">\n       <use xlink:href=\"#DejaVuSans-30\"/>\n       <use x=\"63.623047\" xlink:href=\"#DejaVuSans-2e\"/>\n       <use x=\"95.410156\" xlink:href=\"#DejaVuSans-30\"/>\n       <use x=\"159.033203\" xlink:href=\"#DejaVuSans-35\"/>\n       <use x=\"222.65625\" xlink:href=\"#DejaVuSans-30\"/>\n      </g>\n     </g>\n    </g>\n    <g id=\"ytick_3\">\n     <g id=\"line2d_9\">\n      <g>\n       <use style=\"stroke:#000000;stroke-width:0.8;\" x=\"56.50625\" xlink:href=\"#mfa6528e1f3\" y=\"230.21697\"/>\n      </g>\n     </g>\n     <g id=\"text_10\">\n      <!-- 0.075 -->\n      <g transform=\"translate(20.878125 234.016189)scale(0.1 -0.1)\">\n       <use xlink:href=\"#DejaVuSans-30\"/>\n       <use x=\"63.623047\" xlink:href=\"#DejaVuSans-2e\"/>\n       <use x=\"95.410156\" xlink:href=\"#DejaVuSans-30\"/>\n       <use x=\"159.033203\" xlink:href=\"#DejaVuSans-37\"/>\n       <use x=\"222.65625\" xlink:href=\"#DejaVuSans-35\"/>\n      </g>\n     </g>\n    </g>\n    <g id=\"ytick_4\">\n     <g id=\"line2d_10\">\n      <g>\n       <use style=\"stroke:#000000;stroke-width:0.8;\" x=\"56.50625\" xlink:href=\"#mfa6528e1f3\" y=\"199.33704\"/>\n      </g>\n     </g>\n     <g id=\"text_11\">\n      <!-- 0.100 -->\n      <g transform=\"translate(20.878125 203.136258)scale(0.1 -0.1)\">\n       <defs>\n        <path d=\"M 794 531 \nL 1825 531 \nL 1825 4091 \nL 703 3866 \nL 703 4441 \nL 1819 4666 \nL 2450 4666 \nL 2450 531 \nL 3481 531 \nL 3481 0 \nL 794 0 \nL 794 531 \nz\n\" id=\"DejaVuSans-31\" transform=\"scale(0.015625)\"/>\n       </defs>\n       <use xlink:href=\"#DejaVuSans-30\"/>\n       <use x=\"63.623047\" xlink:href=\"#DejaVuSans-2e\"/>\n       <use x=\"95.410156\" xlink:href=\"#DejaVuSans-31\"/>\n       <use x=\"159.033203\" xlink:href=\"#DejaVuSans-30\"/>\n       <use x=\"222.65625\" xlink:href=\"#DejaVuSans-30\"/>\n      </g>\n     </g>\n    </g>\n    <g id=\"ytick_5\">\n     <g id=\"line2d_11\">\n      <g>\n       <use style=\"stroke:#000000;stroke-width:0.8;\" x=\"56.50625\" xlink:href=\"#mfa6528e1f3\" y=\"168.457109\"/>\n      </g>\n     </g>\n     <g id=\"text_12\">\n      <!-- 0.125 -->\n      <g transform=\"translate(20.878125 172.256328)scale(0.1 -0.1)\">\n       <use xlink:href=\"#DejaVuSans-30\"/>\n       <use x=\"63.623047\" xlink:href=\"#DejaVuSans-2e\"/>\n       <use x=\"95.410156\" xlink:href=\"#DejaVuSans-31\"/>\n       <use x=\"159.033203\" xlink:href=\"#DejaVuSans-32\"/>\n       <use x=\"222.65625\" xlink:href=\"#DejaVuSans-35\"/>\n      </g>\n     </g>\n    </g>\n    <g id=\"ytick_6\">\n     <g id=\"line2d_12\">\n      <g>\n       <use style=\"stroke:#000000;stroke-width:0.8;\" x=\"56.50625\" xlink:href=\"#mfa6528e1f3\" y=\"137.577179\"/>\n      </g>\n     </g>\n     <g id=\"text_13\">\n      <!-- 0.150 -->\n      <g transform=\"translate(20.878125 141.376398)scale(0.1 -0.1)\">\n       <use xlink:href=\"#DejaVuSans-30\"/>\n       <use x=\"63.623047\" xlink:href=\"#DejaVuSans-2e\"/>\n       <use x=\"95.410156\" xlink:href=\"#DejaVuSans-31\"/>\n       <use x=\"159.033203\" xlink:href=\"#DejaVuSans-35\"/>\n       <use x=\"222.65625\" xlink:href=\"#DejaVuSans-30\"/>\n      </g>\n     </g>\n    </g>\n    <g id=\"ytick_7\">\n     <g id=\"line2d_13\">\n      <g>\n       <use style=\"stroke:#000000;stroke-width:0.8;\" x=\"56.50625\" xlink:href=\"#mfa6528e1f3\" y=\"106.697249\"/>\n      </g>\n     </g>\n     <g id=\"text_14\">\n      <!-- 0.175 -->\n      <g transform=\"translate(20.878125 110.496467)scale(0.1 -0.1)\">\n       <use xlink:href=\"#DejaVuSans-30\"/>\n       <use x=\"63.623047\" xlink:href=\"#DejaVuSans-2e\"/>\n       <use x=\"95.410156\" xlink:href=\"#DejaVuSans-31\"/>\n       <use x=\"159.033203\" xlink:href=\"#DejaVuSans-37\"/>\n       <use x=\"222.65625\" xlink:href=\"#DejaVuSans-35\"/>\n      </g>\n     </g>\n    </g>\n    <g id=\"ytick_8\">\n     <g id=\"line2d_14\">\n      <g>\n       <use style=\"stroke:#000000;stroke-width:0.8;\" x=\"56.50625\" xlink:href=\"#mfa6528e1f3\" y=\"75.817318\"/>\n      </g>\n     </g>\n     <g id=\"text_15\">\n      <!-- 0.200 -->\n      <g transform=\"translate(20.878125 79.616537)scale(0.1 -0.1)\">\n       <use xlink:href=\"#DejaVuSans-30\"/>\n       <use x=\"63.623047\" xlink:href=\"#DejaVuSans-2e\"/>\n       <use x=\"95.410156\" xlink:href=\"#DejaVuSans-32\"/>\n       <use x=\"159.033203\" xlink:href=\"#DejaVuSans-30\"/>\n       <use x=\"222.65625\" xlink:href=\"#DejaVuSans-30\"/>\n      </g>\n     </g>\n    </g>\n    <g id=\"ytick_9\">\n     <g id=\"line2d_15\">\n      <g>\n       <use style=\"stroke:#000000;stroke-width:0.8;\" x=\"56.50625\" xlink:href=\"#mfa6528e1f3\" y=\"44.937388\"/>\n      </g>\n     </g>\n     <g id=\"text_16\">\n      <!-- 0.225 -->\n      <g transform=\"translate(20.878125 48.736607)scale(0.1 -0.1)\">\n       <use xlink:href=\"#DejaVuSans-30\"/>\n       <use x=\"63.623047\" xlink:href=\"#DejaVuSans-2e\"/>\n       <use x=\"95.410156\" xlink:href=\"#DejaVuSans-32\"/>\n       <use x=\"159.033203\" xlink:href=\"#DejaVuSans-32\"/>\n       <use x=\"222.65625\" xlink:href=\"#DejaVuSans-35\"/>\n      </g>\n     </g>\n    </g>\n    <g id=\"text_17\">\n     <!-- mean error -->\n     <g transform=\"translate(14.798438 186.089219)rotate(-90)scale(0.1 -0.1)\">\n      <defs>\n       <path d=\"M 3328 2828 \nQ 3544 3216 3844 3400 \nQ 4144 3584 4550 3584 \nQ 5097 3584 5394 3201 \nQ 5691 2819 5691 2113 \nL 5691 0 \nL 5113 0 \nL 5113 2094 \nQ 5113 2597 4934 2840 \nQ 4756 3084 4391 3084 \nQ 3944 3084 3684 2787 \nQ 3425 2491 3425 1978 \nL 3425 0 \nL 2847 0 \nL 2847 2094 \nQ 2847 2600 2669 2842 \nQ 2491 3084 2119 3084 \nQ 1678 3084 1418 2786 \nQ 1159 2488 1159 1978 \nL 1159 0 \nL 581 0 \nL 581 3500 \nL 1159 3500 \nL 1159 2956 \nQ 1356 3278 1631 3431 \nQ 1906 3584 2284 3584 \nQ 2666 3584 2933 3390 \nQ 3200 3197 3328 2828 \nz\n\" id=\"DejaVuSans-6d\" transform=\"scale(0.015625)\"/>\n       <path d=\"M 3597 1894 \nL 3597 1613 \nL 953 1613 \nQ 991 1019 1311 708 \nQ 1631 397 2203 397 \nQ 2534 397 2845 478 \nQ 3156 559 3463 722 \nL 3463 178 \nQ 3153 47 2828 -22 \nQ 2503 -91 2169 -91 \nQ 1331 -91 842 396 \nQ 353 884 353 1716 \nQ 353 2575 817 3079 \nQ 1281 3584 2069 3584 \nQ 2775 3584 3186 3129 \nQ 3597 2675 3597 1894 \nz\nM 3022 2063 \nQ 3016 2534 2758 2815 \nQ 2500 3097 2075 3097 \nQ 1594 3097 1305 2825 \nQ 1016 2553 972 2059 \nL 3022 2063 \nz\n\" id=\"DejaVuSans-65\" transform=\"scale(0.015625)\"/>\n       <path id=\"DejaVuSans-20\" transform=\"scale(0.015625)\"/>\n      </defs>\n      <use xlink:href=\"#DejaVuSans-6d\"/>\n      <use x=\"97.412109\" xlink:href=\"#DejaVuSans-65\"/>\n      <use x=\"158.935547\" xlink:href=\"#DejaVuSans-61\"/>\n      <use x=\"220.214844\" xlink:href=\"#DejaVuSans-6e\"/>\n      <use x=\"283.59375\" xlink:href=\"#DejaVuSans-20\"/>\n      <use x=\"315.380859\" xlink:href=\"#DejaVuSans-65\"/>\n      <use x=\"376.904297\" xlink:href=\"#DejaVuSans-72\"/>\n      <use x=\"416.267578\" xlink:href=\"#DejaVuSans-72\"/>\n      <use x=\"455.130859\" xlink:href=\"#DejaVuSans-6f\"/>\n      <use x=\"516.3125\" xlink:href=\"#DejaVuSans-72\"/>\n     </g>\n    </g>\n   </g>\n   <g id=\"line2d_16\">\n    <path clip-path=\"url(#p7313a8ce6f)\" d=\"M 79.564101 34.67267 \nL 171.795506 58.481669 \nL 264.026911 75.688652 \nL 356.258316 81.307084 \nL 448.489721 73.369798 \nL 540.721126 51.370707 \n\" style=\"fill:none;stroke:#1f77b4;stroke-linecap:square;stroke-width:1.5;\"/>\n    <defs>\n     <path d=\"M -3 3 \nL 3 -3 \nM -3 -3 \nL 3 3 \n\" id=\"m47bd4db445\" style=\"stroke:#1f77b4;\"/>\n    </defs>\n    <g clip-path=\"url(#p7313a8ce6f)\">\n     <use style=\"fill:#1f77b4;stroke:#1f77b4;\" x=\"79.564101\" xlink:href=\"#m47bd4db445\" y=\"34.67267\"/>\n     <use style=\"fill:#1f77b4;stroke:#1f77b4;\" x=\"171.795506\" xlink:href=\"#m47bd4db445\" y=\"58.481669\"/>\n     <use style=\"fill:#1f77b4;stroke:#1f77b4;\" x=\"264.026911\" xlink:href=\"#m47bd4db445\" y=\"75.688652\"/>\n     <use style=\"fill:#1f77b4;stroke:#1f77b4;\" x=\"356.258316\" xlink:href=\"#m47bd4db445\" y=\"81.307084\"/>\n     <use style=\"fill:#1f77b4;stroke:#1f77b4;\" x=\"448.489721\" xlink:href=\"#m47bd4db445\" y=\"73.369798\"/>\n     <use style=\"fill:#1f77b4;stroke:#1f77b4;\" x=\"540.721126\" xlink:href=\"#m47bd4db445\" y=\"51.370707\"/>\n    </g>\n   </g>\n   <g id=\"line2d_17\">\n    <path clip-path=\"url(#p7313a8ce6f)\" d=\"M 79.564101 220.452622 \nL 171.795506 250.280347 \nL 264.026911 272.493882 \nL 356.258316 279.50477 \nL 448.489721 281.76358 \nL 540.721126 274.30093 \n\" style=\"fill:none;stroke:#ff7f0e;stroke-linecap:square;stroke-width:1.5;\"/>\n    <defs>\n     <path d=\"M -3 3 \nL 3 -3 \nM -3 -3 \nL 3 3 \n\" id=\"m65ba0f51d7\" style=\"stroke:#ff7f0e;\"/>\n    </defs>\n    <g clip-path=\"url(#p7313a8ce6f)\">\n     <use style=\"fill:#ff7f0e;stroke:#ff7f0e;\" x=\"79.564101\" xlink:href=\"#m65ba0f51d7\" y=\"220.452622\"/>\n     <use style=\"fill:#ff7f0e;stroke:#ff7f0e;\" x=\"171.795506\" xlink:href=\"#m65ba0f51d7\" y=\"250.280347\"/>\n     <use style=\"fill:#ff7f0e;stroke:#ff7f0e;\" x=\"264.026911\" xlink:href=\"#m65ba0f51d7\" y=\"272.493882\"/>\n     <use style=\"fill:#ff7f0e;stroke:#ff7f0e;\" x=\"356.258316\" xlink:href=\"#m65ba0f51d7\" y=\"279.50477\"/>\n     <use style=\"fill:#ff7f0e;stroke:#ff7f0e;\" x=\"448.489721\" xlink:href=\"#m65ba0f51d7\" y=\"281.76358\"/>\n     <use style=\"fill:#ff7f0e;stroke:#ff7f0e;\" x=\"540.721126\" xlink:href=\"#m65ba0f51d7\" y=\"274.30093\"/>\n    </g>\n   </g>\n   <g id=\"patch_3\">\n    <path d=\"M 56.50625 294.118125 \nL 56.50625 22.318125 \n\" style=\"fill:none;stroke:#000000;stroke-linecap:square;stroke-linejoin:miter;stroke-width:0.8;\"/>\n   </g>\n   <g id=\"patch_4\">\n    <path d=\"M 563.778977 294.118125 \nL 563.778977 22.318125 \n\" style=\"fill:none;stroke:#000000;stroke-linecap:square;stroke-linejoin:miter;stroke-width:0.8;\"/>\n   </g>\n   <g id=\"patch_5\">\n    <path d=\"M 56.50625 294.118125 \nL 563.778977 294.118125 \n\" style=\"fill:none;stroke:#000000;stroke-linecap:square;stroke-linejoin:miter;stroke-width:0.8;\"/>\n   </g>\n   <g id=\"patch_6\">\n    <path d=\"M 56.50625 22.318125 \nL 563.778977 22.318125 \n\" style=\"fill:none;stroke:#000000;stroke-linecap:square;stroke-linejoin:miter;stroke-width:0.8;\"/>\n   </g>\n   <g id=\"text_18\">\n    <!-- Mean error vs fraction -->\n    <g transform=\"translate(243.826676 16.318125)scale(0.12 -0.12)\">\n     <defs>\n      <path d=\"M 628 4666 \nL 1569 4666 \nL 2759 1491 \nL 3956 4666 \nL 4897 4666 \nL 4897 0 \nL 4281 0 \nL 4281 4097 \nL 3078 897 \nL 2444 897 \nL 1241 4097 \nL 1241 0 \nL 628 0 \nL 628 4666 \nz\n\" id=\"DejaVuSans-4d\" transform=\"scale(0.015625)\"/>\n      <path d=\"M 191 3500 \nL 800 3500 \nL 1894 563 \nL 2988 3500 \nL 3597 3500 \nL 2284 0 \nL 1503 0 \nL 191 3500 \nz\n\" id=\"DejaVuSans-76\" transform=\"scale(0.015625)\"/>\n      <path d=\"M 2834 3397 \nL 2834 2853 \nQ 2591 2978 2328 3040 \nQ 2066 3103 1784 3103 \nQ 1356 3103 1142 2972 \nQ 928 2841 928 2578 \nQ 928 2378 1081 2264 \nQ 1234 2150 1697 2047 \nL 1894 2003 \nQ 2506 1872 2764 1633 \nQ 3022 1394 3022 966 \nQ 3022 478 2636 193 \nQ 2250 -91 1575 -91 \nQ 1294 -91 989 -36 \nQ 684 19 347 128 \nL 347 722 \nQ 666 556 975 473 \nQ 1284 391 1588 391 \nQ 1994 391 2212 530 \nQ 2431 669 2431 922 \nQ 2431 1156 2273 1281 \nQ 2116 1406 1581 1522 \nL 1381 1569 \nQ 847 1681 609 1914 \nQ 372 2147 372 2553 \nQ 372 3047 722 3315 \nQ 1072 3584 1716 3584 \nQ 2034 3584 2315 3537 \nQ 2597 3491 2834 3397 \nz\n\" id=\"DejaVuSans-73\" transform=\"scale(0.015625)\"/>\n     </defs>\n     <use xlink:href=\"#DejaVuSans-4d\"/>\n     <use x=\"86.279297\" xlink:href=\"#DejaVuSans-65\"/>\n     <use x=\"147.802734\" xlink:href=\"#DejaVuSans-61\"/>\n     <use x=\"209.082031\" xlink:href=\"#DejaVuSans-6e\"/>\n     <use x=\"272.460938\" xlink:href=\"#DejaVuSans-20\"/>\n     <use x=\"304.248047\" xlink:href=\"#DejaVuSans-65\"/>\n     <use x=\"365.771484\" xlink:href=\"#DejaVuSans-72\"/>\n     <use x=\"405.134766\" xlink:href=\"#DejaVuSans-72\"/>\n     <use x=\"443.998047\" xlink:href=\"#DejaVuSans-6f\"/>\n     <use x=\"505.179688\" xlink:href=\"#DejaVuSans-72\"/>\n     <use x=\"546.292969\" xlink:href=\"#DejaVuSans-20\"/>\n     <use x=\"578.080078\" xlink:href=\"#DejaVuSans-76\"/>\n     <use x=\"637.259766\" xlink:href=\"#DejaVuSans-73\"/>\n     <use x=\"689.359375\" xlink:href=\"#DejaVuSans-20\"/>\n     <use x=\"721.146484\" xlink:href=\"#DejaVuSans-66\"/>\n     <use x=\"756.351562\" xlink:href=\"#DejaVuSans-72\"/>\n     <use x=\"797.464844\" xlink:href=\"#DejaVuSans-61\"/>\n     <use x=\"858.744141\" xlink:href=\"#DejaVuSans-63\"/>\n     <use x=\"913.724609\" xlink:href=\"#DejaVuSans-74\"/>\n     <use x=\"952.933594\" xlink:href=\"#DejaVuSans-69\"/>\n     <use x=\"980.716797\" xlink:href=\"#DejaVuSans-6f\"/>\n     <use x=\"1041.898438\" xlink:href=\"#DejaVuSans-6e\"/>\n    </g>\n   </g>\n   <g id=\"legend_1\">\n    <g id=\"patch_7\">\n     <path d=\"M 63.50625 289.118125 \nL 134.965625 289.118125 \nQ 136.965625 289.118125 136.965625 287.118125 \nL 136.965625 258.761875 \nQ 136.965625 256.761875 134.965625 256.761875 \nL 63.50625 256.761875 \nQ 61.50625 256.761875 61.50625 258.761875 \nL 61.50625 287.118125 \nQ 61.50625 289.118125 63.50625 289.118125 \nz\n\" style=\"fill:#ffffff;opacity:0.8;stroke:#cccccc;stroke-linejoin:miter;\"/>\n    </g>\n    <g id=\"line2d_18\">\n     <path d=\"M 65.50625 264.860312 \nL 85.50625 264.860312 \n\" style=\"fill:none;stroke:#1f77b4;stroke-linecap:square;stroke-width:1.5;\"/>\n    </g>\n    <g id=\"line2d_19\">\n     <g>\n      <use style=\"fill:#1f77b4;stroke:#1f77b4;\" x=\"75.50625\" xlink:href=\"#m47bd4db445\" y=\"264.860312\"/>\n     </g>\n    </g>\n    <g id=\"text_19\">\n     <!-- MONK-1 -->\n     <g transform=\"translate(93.50625 268.360312)scale(0.1 -0.1)\">\n      <defs>\n       <path d=\"M 2522 4238 \nQ 1834 4238 1429 3725 \nQ 1025 3213 1025 2328 \nQ 1025 1447 1429 934 \nQ 1834 422 2522 422 \nQ 3209 422 3611 934 \nQ 4013 1447 4013 2328 \nQ 4013 3213 3611 3725 \nQ 3209 4238 2522 4238 \nz\nM 2522 4750 \nQ 3503 4750 4090 4092 \nQ 4678 3434 4678 2328 \nQ 4678 1225 4090 567 \nQ 3503 -91 2522 -91 \nQ 1538 -91 948 565 \nQ 359 1222 359 2328 \nQ 359 3434 948 4092 \nQ 1538 4750 2522 4750 \nz\n\" id=\"DejaVuSans-4f\" transform=\"scale(0.015625)\"/>\n       <path d=\"M 628 4666 \nL 1478 4666 \nL 3547 763 \nL 3547 4666 \nL 4159 4666 \nL 4159 0 \nL 3309 0 \nL 1241 3903 \nL 1241 0 \nL 628 0 \nL 628 4666 \nz\n\" id=\"DejaVuSans-4e\" transform=\"scale(0.015625)\"/>\n       <path d=\"M 628 4666 \nL 1259 4666 \nL 1259 2694 \nL 3353 4666 \nL 4166 4666 \nL 1850 2491 \nL 4331 0 \nL 3500 0 \nL 1259 2247 \nL 1259 0 \nL 628 0 \nL 628 4666 \nz\n\" id=\"DejaVuSans-4b\" transform=\"scale(0.015625)\"/>\n       <path d=\"M 313 2009 \nL 1997 2009 \nL 1997 1497 \nL 313 1497 \nL 313 2009 \nz\n\" id=\"DejaVuSans-2d\" transform=\"scale(0.015625)\"/>\n      </defs>\n      <use xlink:href=\"#DejaVuSans-4d\"/>\n      <use x=\"86.279297\" xlink:href=\"#DejaVuSans-4f\"/>\n      <use x=\"164.990234\" xlink:href=\"#DejaVuSans-4e\"/>\n      <use x=\"239.794922\" xlink:href=\"#DejaVuSans-4b\"/>\n      <use x=\"294.871094\" xlink:href=\"#DejaVuSans-2d\"/>\n      <use x=\"330.955078\" xlink:href=\"#DejaVuSans-31\"/>\n     </g>\n    </g>\n    <g id=\"line2d_20\">\n     <path d=\"M 65.50625 279.538437 \nL 85.50625 279.538437 \n\" style=\"fill:none;stroke:#ff7f0e;stroke-linecap:square;stroke-width:1.5;\"/>\n    </g>\n    <g id=\"line2d_21\">\n     <g>\n      <use style=\"fill:#ff7f0e;stroke:#ff7f0e;\" x=\"75.50625\" xlink:href=\"#m65ba0f51d7\" y=\"279.538437\"/>\n     </g>\n    </g>\n    <g id=\"text_20\">\n     <!-- MONK-3 -->\n     <g transform=\"translate(93.50625 283.038437)scale(0.1 -0.1)\">\n      <use xlink:href=\"#DejaVuSans-4d\"/>\n      <use x=\"86.279297\" xlink:href=\"#DejaVuSans-4f\"/>\n      <use x=\"164.990234\" xlink:href=\"#DejaVuSans-4e\"/>\n      <use x=\"239.794922\" xlink:href=\"#DejaVuSans-4b\"/>\n      <use x=\"294.871094\" xlink:href=\"#DejaVuSans-2d\"/>\n      <use x=\"330.955078\" xlink:href=\"#DejaVuSans-33\"/>\n     </g>\n    </g>\n   </g>\n  </g>\n  <g id=\"axes_2\">\n   <g id=\"patch_8\">\n    <path d=\"M 665.233523 294.118125 \nL 1172.50625 294.118125 \nL 1172.50625 22.318125 \nL 665.233523 22.318125 \nz\n\" style=\"fill:#ffffff;\"/>\n   </g>\n   <g id=\"matplotlib.axis_3\">\n    <g id=\"xtick_7\">\n     <g id=\"line2d_22\">\n      <g>\n       <use style=\"stroke:#000000;stroke-width:0.8;\" x=\"688.291374\" xlink:href=\"#me7681e9857\" y=\"294.118125\"/>\n      </g>\n     </g>\n     <g id=\"text_21\">\n      <!-- 0.3 -->\n      <g transform=\"translate(680.339811 308.716563)scale(0.1 -0.1)\">\n       <use xlink:href=\"#DejaVuSans-30\"/>\n       <use x=\"63.623047\" xlink:href=\"#DejaVuSans-2e\"/>\n       <use x=\"95.410156\" xlink:href=\"#DejaVuSans-33\"/>\n      </g>\n     </g>\n    </g>\n    <g id=\"xtick_8\">\n     <g id=\"line2d_23\">\n      <g>\n       <use style=\"stroke:#000000;stroke-width:0.8;\" x=\"780.522779\" xlink:href=\"#me7681e9857\" y=\"294.118125\"/>\n      </g>\n     </g>\n     <g id=\"text_22\">\n      <!-- 0.4 -->\n      <g transform=\"translate(772.571216 308.716563)scale(0.1 -0.1)\">\n       <use xlink:href=\"#DejaVuSans-30\"/>\n       <use x=\"63.623047\" xlink:href=\"#DejaVuSans-2e\"/>\n       <use x=\"95.410156\" xlink:href=\"#DejaVuSans-34\"/>\n      </g>\n     </g>\n    </g>\n    <g id=\"xtick_9\">\n     <g id=\"line2d_24\">\n      <g>\n       <use style=\"stroke:#000000;stroke-width:0.8;\" x=\"872.754184\" xlink:href=\"#me7681e9857\" y=\"294.118125\"/>\n      </g>\n     </g>\n     <g id=\"text_23\">\n      <!-- 0.5 -->\n      <g transform=\"translate(864.802621 308.716563)scale(0.1 -0.1)\">\n       <use xlink:href=\"#DejaVuSans-30\"/>\n       <use x=\"63.623047\" xlink:href=\"#DejaVuSans-2e\"/>\n       <use x=\"95.410156\" xlink:href=\"#DejaVuSans-35\"/>\n      </g>\n     </g>\n    </g>\n    <g id=\"xtick_10\">\n     <g id=\"line2d_25\">\n      <g>\n       <use style=\"stroke:#000000;stroke-width:0.8;\" x=\"964.985589\" xlink:href=\"#me7681e9857\" y=\"294.118125\"/>\n      </g>\n     </g>\n     <g id=\"text_24\">\n      <!-- 0.6 -->\n      <g transform=\"translate(957.034026 308.716563)scale(0.1 -0.1)\">\n       <use xlink:href=\"#DejaVuSans-30\"/>\n       <use x=\"63.623047\" xlink:href=\"#DejaVuSans-2e\"/>\n       <use x=\"95.410156\" xlink:href=\"#DejaVuSans-36\"/>\n      </g>\n     </g>\n    </g>\n    <g id=\"xtick_11\">\n     <g id=\"line2d_26\">\n      <g>\n       <use style=\"stroke:#000000;stroke-width:0.8;\" x=\"1057.216994\" xlink:href=\"#me7681e9857\" y=\"294.118125\"/>\n      </g>\n     </g>\n     <g id=\"text_25\">\n      <!-- 0.7 -->\n      <g transform=\"translate(1049.265431 308.716563)scale(0.1 -0.1)\">\n       <use xlink:href=\"#DejaVuSans-30\"/>\n       <use x=\"63.623047\" xlink:href=\"#DejaVuSans-2e\"/>\n       <use x=\"95.410156\" xlink:href=\"#DejaVuSans-37\"/>\n      </g>\n     </g>\n    </g>\n    <g id=\"xtick_12\">\n     <g id=\"line2d_27\">\n      <g>\n       <use style=\"stroke:#000000;stroke-width:0.8;\" x=\"1149.448399\" xlink:href=\"#me7681e9857\" y=\"294.118125\"/>\n      </g>\n     </g>\n     <g id=\"text_26\">\n      <!-- 0.8 -->\n      <g transform=\"translate(1141.496836 308.716563)scale(0.1 -0.1)\">\n       <use xlink:href=\"#DejaVuSans-30\"/>\n       <use x=\"63.623047\" xlink:href=\"#DejaVuSans-2e\"/>\n       <use x=\"95.410156\" xlink:href=\"#DejaVuSans-38\"/>\n      </g>\n     </g>\n    </g>\n    <g id=\"text_27\">\n     <!-- fraction -->\n     <g transform=\"translate(899.663636 322.394687)scale(0.1 -0.1)\">\n      <use xlink:href=\"#DejaVuSans-66\"/>\n      <use x=\"35.205078\" xlink:href=\"#DejaVuSans-72\"/>\n      <use x=\"76.318359\" xlink:href=\"#DejaVuSans-61\"/>\n      <use x=\"137.597656\" xlink:href=\"#DejaVuSans-63\"/>\n      <use x=\"192.578125\" xlink:href=\"#DejaVuSans-74\"/>\n      <use x=\"231.787109\" xlink:href=\"#DejaVuSans-69\"/>\n      <use x=\"259.570312\" xlink:href=\"#DejaVuSans-6f\"/>\n      <use x=\"320.751953\" xlink:href=\"#DejaVuSans-6e\"/>\n     </g>\n    </g>\n   </g>\n   <g id=\"matplotlib.axis_4\">\n    <g id=\"ytick_10\">\n     <g id=\"line2d_28\">\n      <g>\n       <use style=\"stroke:#000000;stroke-width:0.8;\" x=\"665.233523\" xlink:href=\"#mfa6528e1f3\" y=\"265.033332\"/>\n      </g>\n     </g>\n     <g id=\"text_28\">\n      <!-- 0.0010 -->\n      <g transform=\"translate(623.242898 268.832551)scale(0.1 -0.1)\">\n       <use xlink:href=\"#DejaVuSans-30\"/>\n       <use x=\"63.623047\" xlink:href=\"#DejaVuSans-2e\"/>\n       <use x=\"95.410156\" xlink:href=\"#DejaVuSans-30\"/>\n       <use x=\"159.033203\" xlink:href=\"#DejaVuSans-30\"/>\n       <use x=\"222.65625\" xlink:href=\"#DejaVuSans-31\"/>\n       <use x=\"286.279297\" xlink:href=\"#DejaVuSans-30\"/>\n      </g>\n     </g>\n    </g>\n    <g id=\"ytick_11\">\n     <g id=\"line2d_29\">\n      <g>\n       <use style=\"stroke:#000000;stroke-width:0.8;\" x=\"665.233523\" xlink:href=\"#mfa6528e1f3\" y=\"208.736496\"/>\n      </g>\n     </g>\n     <g id=\"text_29\">\n      <!-- 0.0015 -->\n      <g transform=\"translate(623.242898 212.535715)scale(0.1 -0.1)\">\n       <use xlink:href=\"#DejaVuSans-30\"/>\n       <use x=\"63.623047\" xlink:href=\"#DejaVuSans-2e\"/>\n       <use x=\"95.410156\" xlink:href=\"#DejaVuSans-30\"/>\n       <use x=\"159.033203\" xlink:href=\"#DejaVuSans-30\"/>\n       <use x=\"222.65625\" xlink:href=\"#DejaVuSans-31\"/>\n       <use x=\"286.279297\" xlink:href=\"#DejaVuSans-35\"/>\n      </g>\n     </g>\n    </g>\n    <g id=\"ytick_12\">\n     <g id=\"line2d_30\">\n      <g>\n       <use style=\"stroke:#000000;stroke-width:0.8;\" x=\"665.233523\" xlink:href=\"#mfa6528e1f3\" y=\"152.43966\"/>\n      </g>\n     </g>\n     <g id=\"text_30\">\n      <!-- 0.0020 -->\n      <g transform=\"translate(623.242898 156.238879)scale(0.1 -0.1)\">\n       <use xlink:href=\"#DejaVuSans-30\"/>\n       <use x=\"63.623047\" xlink:href=\"#DejaVuSans-2e\"/>\n       <use x=\"95.410156\" xlink:href=\"#DejaVuSans-30\"/>\n       <use x=\"159.033203\" xlink:href=\"#DejaVuSans-30\"/>\n       <use x=\"222.65625\" xlink:href=\"#DejaVuSans-32\"/>\n       <use x=\"286.279297\" xlink:href=\"#DejaVuSans-30\"/>\n      </g>\n     </g>\n    </g>\n    <g id=\"ytick_13\">\n     <g id=\"line2d_31\">\n      <g>\n       <use style=\"stroke:#000000;stroke-width:0.8;\" x=\"665.233523\" xlink:href=\"#mfa6528e1f3\" y=\"96.142825\"/>\n      </g>\n     </g>\n     <g id=\"text_31\">\n      <!-- 0.0025 -->\n      <g transform=\"translate(623.242898 99.942043)scale(0.1 -0.1)\">\n       <use xlink:href=\"#DejaVuSans-30\"/>\n       <use x=\"63.623047\" xlink:href=\"#DejaVuSans-2e\"/>\n       <use x=\"95.410156\" xlink:href=\"#DejaVuSans-30\"/>\n       <use x=\"159.033203\" xlink:href=\"#DejaVuSans-30\"/>\n       <use x=\"222.65625\" xlink:href=\"#DejaVuSans-32\"/>\n       <use x=\"286.279297\" xlink:href=\"#DejaVuSans-35\"/>\n      </g>\n     </g>\n    </g>\n    <g id=\"ytick_14\">\n     <g id=\"line2d_32\">\n      <g>\n       <use style=\"stroke:#000000;stroke-width:0.8;\" x=\"665.233523\" xlink:href=\"#mfa6528e1f3\" y=\"39.845989\"/>\n      </g>\n     </g>\n     <g id=\"text_32\">\n      <!-- 0.0030 -->\n      <g transform=\"translate(623.242898 43.645208)scale(0.1 -0.1)\">\n       <use xlink:href=\"#DejaVuSans-30\"/>\n       <use x=\"63.623047\" xlink:href=\"#DejaVuSans-2e\"/>\n       <use x=\"95.410156\" xlink:href=\"#DejaVuSans-30\"/>\n       <use x=\"159.033203\" xlink:href=\"#DejaVuSans-30\"/>\n       <use x=\"222.65625\" xlink:href=\"#DejaVuSans-33\"/>\n       <use x=\"286.279297\" xlink:href=\"#DejaVuSans-30\"/>\n      </g>\n     </g>\n    </g>\n    <g id=\"text_33\">\n     <!-- variance -->\n     <g transform=\"translate(617.16321 179.744688)rotate(-90)scale(0.1 -0.1)\">\n      <use xlink:href=\"#DejaVuSans-76\"/>\n      <use x=\"59.179688\" xlink:href=\"#DejaVuSans-61\"/>\n      <use x=\"120.458984\" xlink:href=\"#DejaVuSans-72\"/>\n      <use x=\"161.572266\" xlink:href=\"#DejaVuSans-69\"/>\n      <use x=\"189.355469\" xlink:href=\"#DejaVuSans-61\"/>\n      <use x=\"250.634766\" xlink:href=\"#DejaVuSans-6e\"/>\n      <use x=\"314.013672\" xlink:href=\"#DejaVuSans-63\"/>\n      <use x=\"368.994141\" xlink:href=\"#DejaVuSans-65\"/>\n     </g>\n    </g>\n   </g>\n   <g id=\"line2d_33\">\n    <path clip-path=\"url(#p5096953764)\" d=\"M 688.291374 205.9082 \nL 780.522779 198.435059 \nL 872.754184 196.557325 \nL 964.985589 173.039601 \nL 1057.216994 181.498809 \nL 1149.448399 220.67526 \n\" style=\"fill:none;stroke:#1f77b4;stroke-linecap:square;stroke-width:1.5;\"/>\n    <defs>\n     <path d=\"M 0 3 \nC 0.795609 3 1.55874 2.683901 2.12132 2.12132 \nC 2.683901 1.55874 3 0.795609 3 0 \nC 3 -0.795609 2.683901 -1.55874 2.12132 -2.12132 \nC 1.55874 -2.683901 0.795609 -3 0 -3 \nC -0.795609 -3 -1.55874 -2.683901 -2.12132 -2.12132 \nC -2.683901 -1.55874 -3 -0.795609 -3 0 \nC -3 0.795609 -2.683901 1.55874 -2.12132 2.12132 \nC -1.55874 2.683901 -0.795609 3 0 3 \nz\n\" id=\"mf5c0966110\" style=\"stroke:#1f77b4;\"/>\n    </defs>\n    <g clip-path=\"url(#p5096953764)\">\n     <use style=\"fill:#1f77b4;stroke:#1f77b4;\" x=\"688.291374\" xlink:href=\"#mf5c0966110\" y=\"205.9082\"/>\n     <use style=\"fill:#1f77b4;stroke:#1f77b4;\" x=\"780.522779\" xlink:href=\"#mf5c0966110\" y=\"198.435059\"/>\n     <use style=\"fill:#1f77b4;stroke:#1f77b4;\" x=\"872.754184\" xlink:href=\"#mf5c0966110\" y=\"196.557325\"/>\n     <use style=\"fill:#1f77b4;stroke:#1f77b4;\" x=\"964.985589\" xlink:href=\"#mf5c0966110\" y=\"173.039601\"/>\n     <use style=\"fill:#1f77b4;stroke:#1f77b4;\" x=\"1057.216994\" xlink:href=\"#mf5c0966110\" y=\"181.498809\"/>\n     <use style=\"fill:#1f77b4;stroke:#1f77b4;\" x=\"1149.448399\" xlink:href=\"#mf5c0966110\" y=\"220.67526\"/>\n    </g>\n   </g>\n   <g id=\"line2d_34\">\n    <path clip-path=\"url(#p5096953764)\" d=\"M 688.291374 34.67267 \nL 780.522779 153.163455 \nL 872.754184 245.076164 \nL 964.985589 275.329709 \nL 1057.216994 281.76358 \nL 1149.448399 255.095669 \n\" style=\"fill:none;stroke:#ff7f0e;stroke-linecap:square;stroke-width:1.5;\"/>\n    <defs>\n     <path d=\"M 0 3 \nC 0.795609 3 1.55874 2.683901 2.12132 2.12132 \nC 2.683901 1.55874 3 0.795609 3 0 \nC 3 -0.795609 2.683901 -1.55874 2.12132 -2.12132 \nC 1.55874 -2.683901 0.795609 -3 0 -3 \nC -0.795609 -3 -1.55874 -2.683901 -2.12132 -2.12132 \nC -2.683901 -1.55874 -3 -0.795609 -3 0 \nC -3 0.795609 -2.683901 1.55874 -2.12132 2.12132 \nC -1.55874 2.683901 -0.795609 3 0 3 \nz\n\" id=\"mff463241e3\" style=\"stroke:#ff7f0e;\"/>\n    </defs>\n    <g clip-path=\"url(#p5096953764)\">\n     <use style=\"fill:#ff7f0e;stroke:#ff7f0e;\" x=\"688.291374\" xlink:href=\"#mff463241e3\" y=\"34.67267\"/>\n     <use style=\"fill:#ff7f0e;stroke:#ff7f0e;\" x=\"780.522779\" xlink:href=\"#mff463241e3\" y=\"153.163455\"/>\n     <use style=\"fill:#ff7f0e;stroke:#ff7f0e;\" x=\"872.754184\" xlink:href=\"#mff463241e3\" y=\"245.076164\"/>\n     <use style=\"fill:#ff7f0e;stroke:#ff7f0e;\" x=\"964.985589\" xlink:href=\"#mff463241e3\" y=\"275.329709\"/>\n     <use style=\"fill:#ff7f0e;stroke:#ff7f0e;\" x=\"1057.216994\" xlink:href=\"#mff463241e3\" y=\"281.76358\"/>\n     <use style=\"fill:#ff7f0e;stroke:#ff7f0e;\" x=\"1149.448399\" xlink:href=\"#mff463241e3\" y=\"255.095669\"/>\n    </g>\n   </g>\n   <g id=\"patch_9\">\n    <path d=\"M 665.233523 294.118125 \nL 665.233523 22.318125 \n\" style=\"fill:none;stroke:#000000;stroke-linecap:square;stroke-linejoin:miter;stroke-width:0.8;\"/>\n   </g>\n   <g id=\"patch_10\">\n    <path d=\"M 1172.50625 294.118125 \nL 1172.50625 22.318125 \n\" style=\"fill:none;stroke:#000000;stroke-linecap:square;stroke-linejoin:miter;stroke-width:0.8;\"/>\n   </g>\n   <g id=\"patch_11\">\n    <path d=\"M 665.233523 294.118125 \nL 1172.50625 294.118125 \n\" style=\"fill:none;stroke:#000000;stroke-linecap:square;stroke-linejoin:miter;stroke-width:0.8;\"/>\n   </g>\n   <g id=\"patch_12\">\n    <path d=\"M 665.233523 22.318125 \nL 1172.50625 22.318125 \n\" style=\"fill:none;stroke:#000000;stroke-linecap:square;stroke-linejoin:miter;stroke-width:0.8;\"/>\n   </g>\n   <g id=\"text_34\">\n    <!-- Variance vs fraction -->\n    <g transform=\"translate(859.411761 16.318125)scale(0.12 -0.12)\">\n     <defs>\n      <path d=\"M 1831 0 \nL 50 4666 \nL 709 4666 \nL 2188 738 \nL 3669 4666 \nL 4325 4666 \nL 2547 0 \nL 1831 0 \nz\n\" id=\"DejaVuSans-56\" transform=\"scale(0.015625)\"/>\n     </defs>\n     <use xlink:href=\"#DejaVuSans-56\"/>\n     <use x=\"60.658203\" xlink:href=\"#DejaVuSans-61\"/>\n     <use x=\"121.9375\" xlink:href=\"#DejaVuSans-72\"/>\n     <use x=\"163.050781\" xlink:href=\"#DejaVuSans-69\"/>\n     <use x=\"190.833984\" xlink:href=\"#DejaVuSans-61\"/>\n     <use x=\"252.113281\" xlink:href=\"#DejaVuSans-6e\"/>\n     <use x=\"315.492188\" xlink:href=\"#DejaVuSans-63\"/>\n     <use x=\"370.472656\" xlink:href=\"#DejaVuSans-65\"/>\n     <use x=\"431.996094\" xlink:href=\"#DejaVuSans-20\"/>\n     <use x=\"463.783203\" xlink:href=\"#DejaVuSans-76\"/>\n     <use x=\"522.962891\" xlink:href=\"#DejaVuSans-73\"/>\n     <use x=\"575.0625\" xlink:href=\"#DejaVuSans-20\"/>\n     <use x=\"606.849609\" xlink:href=\"#DejaVuSans-66\"/>\n     <use x=\"642.054688\" xlink:href=\"#DejaVuSans-72\"/>\n     <use x=\"683.167969\" xlink:href=\"#DejaVuSans-61\"/>\n     <use x=\"744.447266\" xlink:href=\"#DejaVuSans-63\"/>\n     <use x=\"799.427734\" xlink:href=\"#DejaVuSans-74\"/>\n     <use x=\"838.636719\" xlink:href=\"#DejaVuSans-69\"/>\n     <use x=\"866.419922\" xlink:href=\"#DejaVuSans-6f\"/>\n     <use x=\"927.601562\" xlink:href=\"#DejaVuSans-6e\"/>\n    </g>\n   </g>\n   <g id=\"legend_2\">\n    <g id=\"patch_13\">\n     <path d=\"M 1094.046875 59.674375 \nL 1165.50625 59.674375 \nQ 1167.50625 59.674375 1167.50625 57.674375 \nL 1167.50625 29.318125 \nQ 1167.50625 27.318125 1165.50625 27.318125 \nL 1094.046875 27.318125 \nQ 1092.046875 27.318125 1092.046875 29.318125 \nL 1092.046875 57.674375 \nQ 1092.046875 59.674375 1094.046875 59.674375 \nz\n\" style=\"fill:#ffffff;opacity:0.8;stroke:#cccccc;stroke-linejoin:miter;\"/>\n    </g>\n    <g id=\"line2d_35\">\n     <path d=\"M 1096.046875 35.416562 \nL 1116.046875 35.416562 \n\" style=\"fill:none;stroke:#1f77b4;stroke-linecap:square;stroke-width:1.5;\"/>\n    </g>\n    <g id=\"line2d_36\">\n     <g>\n      <use style=\"fill:#1f77b4;stroke:#1f77b4;\" x=\"1106.046875\" xlink:href=\"#mf5c0966110\" y=\"35.416562\"/>\n     </g>\n    </g>\n    <g id=\"text_35\">\n     <!-- MONK-1 -->\n     <g transform=\"translate(1124.046875 38.916562)scale(0.1 -0.1)\">\n      <use xlink:href=\"#DejaVuSans-4d\"/>\n      <use x=\"86.279297\" xlink:href=\"#DejaVuSans-4f\"/>\n      <use x=\"164.990234\" xlink:href=\"#DejaVuSans-4e\"/>\n      <use x=\"239.794922\" xlink:href=\"#DejaVuSans-4b\"/>\n      <use x=\"294.871094\" xlink:href=\"#DejaVuSans-2d\"/>\n      <use x=\"330.955078\" xlink:href=\"#DejaVuSans-31\"/>\n     </g>\n    </g>\n    <g id=\"line2d_37\">\n     <path d=\"M 1096.046875 50.094688 \nL 1116.046875 50.094688 \n\" style=\"fill:none;stroke:#ff7f0e;stroke-linecap:square;stroke-width:1.5;\"/>\n    </g>\n    <g id=\"line2d_38\">\n     <g>\n      <use style=\"fill:#ff7f0e;stroke:#ff7f0e;\" x=\"1106.046875\" xlink:href=\"#mff463241e3\" y=\"50.094688\"/>\n     </g>\n    </g>\n    <g id=\"text_36\">\n     <!-- MONK-3 -->\n     <g transform=\"translate(1124.046875 53.594688)scale(0.1 -0.1)\">\n      <use xlink:href=\"#DejaVuSans-4d\"/>\n      <use x=\"86.279297\" xlink:href=\"#DejaVuSans-4f\"/>\n      <use x=\"164.990234\" xlink:href=\"#DejaVuSans-4e\"/>\n      <use x=\"239.794922\" xlink:href=\"#DejaVuSans-4b\"/>\n      <use x=\"294.871094\" xlink:href=\"#DejaVuSans-2d\"/>\n      <use x=\"330.955078\" xlink:href=\"#DejaVuSans-33\"/>\n     </g>\n    </g>\n   </g>\n  </g>\n </g>\n <defs>\n  <clipPath id=\"p7313a8ce6f\">\n   <rect height=\"271.8\" width=\"507.272727\" x=\"56.50625\" y=\"22.318125\"/>\n  </clipPath>\n  <clipPath id=\"p5096953764\">\n   <rect height=\"271.8\" width=\"507.272727\" x=\"665.233523\" y=\"22.318125\"/>\n  </clipPath>\n </defs>\n</svg>\n",
            "text/plain": [
              "<Figure size 1440x360 with 2 Axes>"
            ]
          },
          "metadata": {
            "needs_background": "light"
          }
        }
      ],
      "metadata": {}
    }
  ],
  "metadata": {
    "orig_nbformat": 4,
    "language_info": {
      "name": "python",
      "version": "3.8.10",
      "mimetype": "text/x-python",
      "codemirror_mode": {
        "name": "ipython",
        "version": 3
      },
      "pygments_lexer": "ipython3",
      "nbconvert_exporter": "python",
      "file_extension": ".py"
    },
    "kernelspec": {
      "name": "python3",
      "display_name": "Python 3.8.10 64-bit"
    },
    "interpreter": {
      "hash": "31f2aee4e71d21fbe5cf8b01ff0e069b9275f58929596ceb00d14d90e3e16cd6"
    }
  },
  "nbformat": 4,
  "nbformat_minor": 2
}